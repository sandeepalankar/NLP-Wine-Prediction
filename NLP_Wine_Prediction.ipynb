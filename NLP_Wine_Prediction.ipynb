{
  "cells": [
    {
      "cell_type": "markdown",
      "metadata": {
        "id": "LBzOvQQViOIt"
      },
      "source": [
        "## Imports and Mount Drive"
      ]
    },
    {
      "cell_type": "code",
      "execution_count": null,
      "metadata": {
        "colab": {
          "base_uri": "https://localhost:8080/"
        },
        "id": "Al9uvbdyiOtS",
        "outputId": "d43e73ce-bfbc-4aee-f9eb-4dc7f7da483f"
      },
      "outputs": [
        {
          "output_type": "stream",
          "name": "stdout",
          "text": [
            "Mounted at /content/drive\n"
          ]
        }
      ],
      "source": [
        "from google.colab import drive\n",
        "import pandas as pd\n",
        "import numpy as np\n",
        "import matplotlib.pyplot as plt\n",
        "import seaborn as sns\n",
        "from sklearn.cluster import KMeans\n",
        "from sklearn.linear_model import LogisticRegression\n",
        "from sklearn.model_selection import train_test_split\n",
        "from sklearn.preprocessing import StandardScaler\n",
        "from sklearn.ensemble import AdaBoostClassifier\n",
        "from sklearn.ensemble import RandomForestClassifier\n",
        "from sklearn.tree import DecisionTreeClassifier\n",
        "\n",
        "from scipy.stats import expon as sp_expon\n",
        "from scipy.stats import randint as sp_randint\n",
        "\n",
        "drive.mount('/content/drive')"
      ]
    },
    {
      "cell_type": "code",
      "execution_count": null,
      "metadata": {
        "id": "ye9X43_8jE_8"
      },
      "outputs": [],
      "source": [
        "# Load csv into df\n",
        "wine_df = pd.read_csv('/content/drive/Shareddrives/CIS_5190_Final_Project/Data/winemag-data-130k-v2.csv', index_col=0)"
      ]
    },
    {
      "cell_type": "markdown",
      "metadata": {
        "id": "tIJQfJTlRW_Y"
      },
      "source": [
        "## Data Cleaning\n",
        "___"
      ]
    },
    {
      "cell_type": "code",
      "execution_count": null,
      "metadata": {
        "colab": {
          "base_uri": "https://localhost:8080/"
        },
        "id": "2TkGyGRPpa5s",
        "outputId": "977efe1b-f6c4-4e93-dbee-659b2d91849e"
      },
      "outputs": [
        {
          "output_type": "stream",
          "name": "stdout",
          "text": [
            "Instances lost after variety filtering: 7493\n",
            "Instances lost after country filtering: 681\n",
            "Instances lost after province filtering: 3726\n",
            "Instances lost after region_1 filtering: 16383\n",
            "-------------------------------------\n",
            "Total Remaining Instances: 91612\n"
          ]
        }
      ],
      "source": [
        "PREPEND_TO_DESCRIPTION = True\n",
        "\n",
        "# Drop rows missing important geographic information and irrelevant columns\n",
        "wine_df_clean = wine_df.dropna(subset=['province', 'country', 'variety'])  # drop rows missing important geographic data\n",
        "wine_df_clean = wine_df_clean.drop(columns=['region_2', 'designation', 'taster_name', 'taster_twitter_handle'])  # drop region_2 (mostly nans) and designation (inherrently encodes georgraphic data)\n",
        "wine_df_clean['region_1'] = wine_df_clean['region_1'].fillna(wine_df_clean['province'])  # impute region_1 with province if missing\n",
        "wine_df_clean = wine_df_clean.drop_duplicates('description')  # drop duplicate descriptions\n",
        "\n",
        "# Remove varieties with less than 100 instances\n",
        "MIN_VARIETY_INSTANCES = 100\n",
        "prev_instances = wine_df_clean.shape[0]\n",
        "wine_df_clean = wine_df_clean.groupby('variety').filter((lambda d : len(d) > MIN_VARIETY_INSTANCES))\n",
        "print(f'Instances lost after variety filtering: {prev_instances - wine_df_clean.shape[0]}')\n",
        "if PREPEND_TO_DESCRIPTION:\n",
        "  wine_df_clean['variety'] = wine_df_clean['variety'].apply(lambda d : '_'.join(d.split(' '))) # convert variety to single word\n",
        "else:\n",
        "  varieties = pd.get_dummies(wine_df_clean['variety'])  # one hot encode\n",
        "  wine_df_clean = wine_df_clean.join(varieties)\n",
        "\n",
        "# Remove regions, countries provinces with less than 100 instances\n",
        "MIN_REGION_INSTANCES = 100\n",
        "cols = ['country', 'province', 'region_1']\n",
        "for col in cols:\n",
        "  prev_instances = wine_df_clean.shape[0]\n",
        "  wine_df_clean = wine_df_clean.groupby(col).filter((lambda d : len(d) > MIN_REGION_INSTANCES))\n",
        "  print(f'Instances lost after {col} filtering: {prev_instances - wine_df_clean.shape[0]}')\n",
        "print('-------------------------------------')\n",
        "print(f'Total Remaining Instances: {wine_df_clean.shape[0]}')\n",
        "\n",
        "# Normalize numeric fields\n",
        "normalize = lambda df, col: (df[col] - df[col].min()) / (df[col].max() - df[col].min())\n",
        "wine_df_clean['price'] = normalize(wine_df, 'price')\n",
        "wine_df_clean['points'] = normalize(wine_df, 'points')\n",
        "\n",
        "\n",
        "# add indicator column for missing price, then fill with mean\n",
        "if not PREPEND_TO_DESCRIPTION:\n",
        "  wine_df_clean['no_price'] = wine_df_clean.apply(lambda x : 1 if np.isnan(x['price']) else 0, axis=1)  # 1 hot encodings for missing price\n",
        "  wine_df_clean['price'] = wine_df_clean['price'].fillna(wine_df_clean['price'].mean())"
      ]
    },
    {
      "cell_type": "markdown",
      "metadata": {
        "id": "BRfsZD-tA4XJ"
      },
      "source": [
        "### Encoding Numeric and Categorical Features into Text"
      ]
    },
    {
      "cell_type": "code",
      "execution_count": null,
      "metadata": {
        "id": "m2U35iewEFFt"
      },
      "outputs": [],
      "source": [
        "if PREPEND_TO_DESCRIPTION:\n",
        "  # Convert price and points to categorical\n",
        "  price_desc = wine_df_clean['price'].describe()\n",
        "  points_desc = wine_df_clean['points'].describe()\n",
        "\n",
        "  # Price and Points as Categorical\n",
        "  def categorical_mapper(d, desc, mapper):\n",
        "    if np.isnan(d):\n",
        "      return mapper['nan']\n",
        "    elif d < desc['25%']:\n",
        "      return mapper['l']\n",
        "    elif d < desc['75%']:\n",
        "      return mapper['m']\n",
        "    else:\n",
        "      return mapper['h']\n",
        "\n",
        "  wine_df_clean['price_categorical'] = wine_df_clean['price'].apply( \\\n",
        "      lambda d : categorical_mapper(d, price_desc, {'nan': 'no_price', 'l': 'affordable', 'm': 'standard', 'h': 'expensive'}))\n",
        "  wine_df_clean['points_categorical'] = wine_df_clean['points'].apply( \\\n",
        "      lambda d : categorical_mapper(d, points_desc, {'nan': 'no_points', 'l': 'low_points', 'm': 'medium_points', 'h': 'high_points'}))"
      ]
    },
    {
      "cell_type": "code",
      "execution_count": null,
      "metadata": {
        "colab": {
          "base_uri": "https://localhost:8080/"
        },
        "id": "OR-VjmPGBE5u",
        "outputId": "00db4d92-a67d-4f62-c5b7-906912dbdf0e"
      },
      "outputs": [
        {
          "output_type": "stream",
          "name": "stdout",
          "text": [
            "0     White_Blend medium_points no_price Aromas incl...\n",
            "1     Portuguese_Red medium_points affordable This i...\n",
            "2     Pinot_Gris medium_points affordable Tart and s...\n",
            "4     Pinot_Noir medium_points expensive Much like t...\n",
            "7     Gewürztraminer medium_points standard This dry...\n",
            "8     Gewürztraminer medium_points affordable Savory...\n",
            "9     Pinot_Gris medium_points standard This has gre...\n",
            "10    Cabernet_Sauvignon medium_points standard Soft...\n",
            "11    Gewürztraminer medium_points standard This is ...\n",
            "12    Cabernet_Sauvignon medium_points standard Slig...\n",
            "Name: description, dtype: object\n"
          ]
        }
      ],
      "source": [
        "if PREPEND_TO_DESCRIPTION:\n",
        "  # Prepending Categorical\n",
        "  CATEGORICAL = ['price_categorical', 'points_categorical', 'variety']\n",
        "  for col in CATEGORICAL:\n",
        "    wine_df_clean['description'] = wine_df_clean.apply(lambda d : d[col] + ' ' + d['description'], axis=1)\n",
        "  print(wine_df_clean['description'].head(10))"
      ]
    },
    {
      "cell_type": "code",
      "execution_count": null,
      "metadata": {
        "colab": {
          "base_uri": "https://localhost:8080/"
        },
        "id": "4UqyguuUHUUp",
        "outputId": "d43c8a69-ce34-471d-b5f6-b31a27b9ccb7"
      },
      "outputs": [
        {
          "output_type": "stream",
          "name": "stdout",
          "text": [
            "country        object\n",
            "description    object\n",
            "province       object\n",
            "region_1       object\n",
            "title          object\n",
            "winery         object\n",
            "dtype: object\n"
          ]
        }
      ],
      "source": [
        "# Remove unnecessary column, verify no nans\n",
        "if PREPEND_TO_DESCRIPTION:\n",
        "  wine_df_clean = wine_df_clean.drop(columns=['price', 'points'])\n",
        "  wine_df_clean = wine_df_clean.drop(columns=CATEGORICAL)\n",
        "print(wine_df_clean.dtypes)\n",
        "\n",
        "# Verification\n",
        "na_count = wine_df_clean.isna().sum()\n",
        "for _, count in na_count.items():\n",
        "  assert(count == 0)"
      ]
    },
    {
      "cell_type": "markdown",
      "metadata": {
        "id": "ltpPZ8NAZh4t"
      },
      "source": [
        "# Data Distribution\n",
        "\n",
        "___"
      ]
    },
    {
      "cell_type": "markdown",
      "metadata": {
        "id": "FPr4VmTtqdpf"
      },
      "source": [
        "## Analysis and Visualization of Numeric Features"
      ]
    },
    {
      "cell_type": "code",
      "execution_count": null,
      "metadata": {
        "colab": {
          "base_uri": "https://localhost:8080/"
        },
        "id": "MrbdCtc8ZrGg",
        "outputId": "85745a56-6fa8-4ae4-e577-be6d0264ee26"
      },
      "outputs": [
        {
          "output_type": "execute_result",
          "data": {
            "text/plain": [
              "US           45192\n",
              "France       14005\n",
              "Italy        11290\n",
              "Portugal      4258\n",
              "Spain         4044\n",
              "Chile         3445\n",
              "Argentina     2527\n",
              "Austria       1906\n",
              "Germany       1588\n",
              "Australia     1144\n",
              "Name: country, dtype: int64"
            ]
          },
          "metadata": {},
          "execution_count": 7
        }
      ],
      "source": [
        "# Top 10 Countries with most wine reviews\n",
        "wine_df_clean['country'].value_counts().nlargest(10)"
      ]
    },
    {
      "cell_type": "code",
      "execution_count": null,
      "metadata": {
        "id": "7eFSXuoZZtM4"
      },
      "outputs": [],
      "source": [
        "if not PREPEND_TO_DESCRIPTION:\n",
        "  US = wine_df_clean[wine_df_clean['country']=='US']\n",
        "  France = wine_df_clean[wine_df_clean['country']=='France']\n",
        "  Italy = wine_df_clean[wine_df_clean['country']=='Italy']\n",
        "  Spain = wine_df_clean[wine_df_clean['country']=='Spain']\n",
        "  Portugal = wine_df_clean[wine_df_clean['country']=='Portugal']\n",
        "\n",
        "  plt.figure(figsize=(12, 5))\n",
        "  plt.scatter(US['province'], US['price'], c = 'tab:blue', marker = '+', alpha = 0.5)\n",
        "  plt.title(\"Wine Prices based on US State\")\n",
        "  plt.xlabel('US State')\n",
        "  plt.ylabel(\"Price($)\")\n",
        "  plt.grid(alpha = 0.25)\n",
        "  plt.xticks(rotation=90)\n",
        "\n",
        "  plt.figure(figsize=(12, 5))\n",
        "  plt.scatter(France['province'], France['price'], c = 'tab:orange', marker = '+', alpha = 0.5)\n",
        "  plt.title(\"Wine Prices based on French province\")\n",
        "  plt.xlabel('French Province')\n",
        "  plt.ylabel(\"Price($)\")\n",
        "  plt.grid(alpha = 0.25)\n",
        "  plt.xticks(rotation=90)\n",
        "\n",
        "  plt.figure(figsize=(12, 5))\n",
        "  plt.scatter(Italy['province'], Italy['price'], c = 'tab:green', marker = '+', alpha = 0.5)\n",
        "  plt.title(\"Wine Prices based on Italian province\")\n",
        "  plt.xlabel('Italian Province')\n",
        "  plt.ylabel(\"Price($)\")\n",
        "  plt.grid(alpha = 0.25)\n",
        "  plt.xticks(rotation=90)\n",
        "\n",
        "  plt.figure(figsize=(12, 5))\n",
        "  plt.scatter(Spain['province'], Spain['price'], c = 'tab:red', marker = '+', alpha = 0.5)\n",
        "  plt.title(\"Wine Prices based on Spain province\")\n",
        "  plt.xlabel('Spain Province')\n",
        "  plt.ylabel(\"Price($)\")\n",
        "  plt.grid(alpha = 0.25)\n",
        "  plt.xticks(rotation=90)\n",
        "\n",
        "  plt.figure(figsize=(12, 5))\n",
        "  plt.scatter(Portugal['province'], Portugal['price'], c = 'tab:pink', marker = '+', alpha = 0.5)\n",
        "  plt.title(\"Wine Prices based on Portugal province\")\n",
        "  plt.xlabel('Portugal Province')\n",
        "  plt.ylabel(\"Price($)\")\n",
        "  plt.grid(alpha = 0.25)\n",
        "  plt.xticks(rotation=90)\n",
        "  plt.show()"
      ]
    },
    {
      "cell_type": "code",
      "execution_count": null,
      "metadata": {
        "id": "qbtRdLSbZ3a2"
      },
      "outputs": [],
      "source": [
        "if not PREPEND_TO_DESCRIPTION:\n",
        "  #Top 10 most common regions producing wine in US\n",
        "  n = 10\n",
        "  print(US['region_1'].value_counts()[:n].index.tolist())\n",
        "\n",
        "  #Top 10 most common regions producing wine in France\n",
        "  print(France['region_1'].value_counts()[:n].index.tolist())\n",
        "\n",
        "  #Top 10 most common regions producing wine in Italy\n",
        "  print(Italy['region_1'].value_counts()[:n].index.tolist())\n",
        "\n",
        "  #Top 10 most common regions producing wine in Spain\n",
        "  print(Spain['region_1'].value_counts()[:n].index.tolist())\n",
        "\n",
        "  #Top 10 most common regions producing wine in Portugal\n",
        "  print(Portugal['region_1'].value_counts()[:n].index.tolist())\n",
        "\n",
        "  Franceavg = France['price'].mean()\n",
        "  Italyavg = Italy['price'].mean()\n",
        "  USavg = US['price'].mean()\n",
        "  Spainavg = Spain['price'].mean()\n",
        "  Portgualavg = Portugal['price'].mean()\n",
        "\n",
        "  #Array of avg wine price per country\n",
        "  avgprices = [Franceavg, Italyavg, USavg, Spainavg, Portgualavg]\n",
        "  avgprices"
      ]
    },
    {
      "cell_type": "markdown",
      "metadata": {
        "id": "vmMgGwfjqGGs"
      },
      "source": [
        "## Natural Language Processing"
      ]
    },
    {
      "cell_type": "code",
      "execution_count": null,
      "metadata": {
        "colab": {
          "base_uri": "https://localhost:8080/"
        },
        "id": "UzeQNWjf1Mlf",
        "outputId": "afe89aa6-49db-4d0e-a599-499b0dec5b25"
      },
      "outputs": [
        {
          "output_type": "stream",
          "name": "stderr",
          "text": [
            "[nltk_data] Downloading package punkt to /root/nltk_data...\n",
            "[nltk_data]   Unzipping tokenizers/punkt.zip.\n",
            "[nltk_data] Downloading package stopwords to /root/nltk_data...\n",
            "[nltk_data]   Unzipping corpora/stopwords.zip.\n"
          ]
        },
        {
          "output_type": "execute_result",
          "data": {
            "text/plain": [
              "True"
            ]
          },
          "metadata": {},
          "execution_count": 10
        }
      ],
      "source": [
        "import nltk\n",
        "from nltk.corpus import stopwords\n",
        "from collections import defaultdict\n",
        "from nltk.stem import PorterStemmer\n",
        "import string\n",
        "from sklearn.feature_extraction.text import CountVectorizer\n",
        "from sklearn.feature_extraction.text import TfidfVectorizer\n",
        "nltk.download('punkt')\n",
        "nltk.download('stopwords')"
      ]
    },
    {
      "cell_type": "code",
      "execution_count": null,
      "metadata": {
        "id": "Vrco_8F81fM7"
      },
      "outputs": [],
      "source": [
        "wine_df_clean['tokenized_reviews'] = wine_df_clean.apply(lambda row: nltk.word_tokenize(row['description']), axis=1)"
      ]
    },
    {
      "cell_type": "code",
      "execution_count": null,
      "metadata": {
        "id": "D9Qz9Xhw3fm7"
      },
      "outputs": [],
      "source": [
        "def getWordCounts():\n",
        "  wordCounts = defaultdict(int)\n",
        "  punctuation = set(string.punctuation)\n",
        "  stemmer = PorterStemmer()\n",
        "  stopWList= set(stopwords.words('english'))\n",
        "\n",
        "  for row in wine_df_clean['tokenized_reviews']:\n",
        "    for w in row:\n",
        "      w = ''.join([c for c in w.lower() if not c in punctuation])\n",
        "      if w not in stopWList:\n",
        "        w = stemmer.stem(w)\n",
        "        wordCounts[w] += 1\n",
        "  totalCounts = [(wordCounts[w], w) for w in wordCounts]\n",
        "  totalCounts.sort()\n",
        "  totalCounts.reverse()\n",
        "  print(len(totalCounts))\n",
        "  wordS = [x[1] for x in totalCounts[:1000]]\n",
        "  print(wordS[0:20])\n",
        "  for word in wordS[0:20]:\n",
        "      print(word + \": \" + str(wordCounts[word]))\n",
        "  return wordS, wordCounts"
      ]
    },
    {
      "cell_type": "markdown",
      "metadata": {
        "id": "tYEggimGdSw5"
      },
      "source": [
        "Other options include Bag of Words and TF-IDF. These create large sparse vectors out of the entire vocabulary so not sure if its our best choice. Another choice is word2vec, which is a lot more complicated."
      ]
    },
    {
      "cell_type": "code",
      "execution_count": null,
      "metadata": {
        "colab": {
          "base_uri": "https://localhost:8080/"
        },
        "id": "ivaLRGElSgf0",
        "outputId": "6694695e-511e-4026-a139-ee80dc78bd33"
      },
      "outputs": [
        {
          "output_type": "stream",
          "name": "stdout",
          "text": [
            "30440\n",
            "['', 'wine', 'flavor', 'mediumpoint', 'standard', 'fruit', 'finish', 'aroma', 'acid', 'highpoint', 'palat', 'tannin', 'cherri', 'expens', 'drink', 'afford', 'ripe', 'black', 'dri', 'note']\n",
            ": 591744\n",
            "wine: 57603\n",
            "flavor: 50769\n",
            "mediumpoint: 50026\n",
            "standard: 42500\n",
            "fruit: 41331\n",
            "finish: 27679\n",
            "aroma: 26961\n",
            "acid: 26938\n",
            "highpoint: 25881\n",
            "palat: 25571\n",
            "tannin: 23345\n",
            "cherri: 22925\n",
            "expens: 22722\n",
            "drink: 22559\n",
            "afford: 21411\n",
            "ripe: 20313\n",
            "black: 18030\n",
            "dri: 17762\n",
            "note: 16824\n"
          ]
        }
      ],
      "source": [
        "wordList, wordCounts = getWordCounts()"
      ]
    },
    {
      "cell_type": "markdown",
      "metadata": {
        "id": "YW-9dAqXq-ae"
      },
      "source": [
        "### Word Count Vectorization"
      ]
    },
    {
      "cell_type": "code",
      "execution_count": null,
      "metadata": {
        "id": "zrAPBCzkaf2N"
      },
      "outputs": [],
      "source": [
        "from scipy import sparse\n",
        "\n",
        "WORD_KEEP_COUNT = -2  # -2 for all words\n",
        "\n",
        "bow_vectorizer = CountVectorizer(stop_words='english', vocabulary=wordList[1:WORD_KEEP_COUNT+1]) # drop the '' word and use the top words\n",
        "bow_X = bow_vectorizer.fit_transform(wine_df_clean['description'])\n",
        "if not PREPEND_TO_DESCRIPTION:\n",
        "  numerics = ['int16', 'int32', 'int64', 'float16', 'float32', 'float64']\n",
        "  wine_clean_numeric = wine_df_clean.select_dtypes(include=numerics).values\n",
        "  X = sparse.hstack((bow_X, wine_clean_numeric))\n",
        "else:\n",
        "  X = bow_X"
      ]
    },
    {
      "cell_type": "markdown",
      "metadata": {
        "id": "usPYF-08rIOv"
      },
      "source": [
        "### Tfidf Vectorization"
      ]
    },
    {
      "cell_type": "code",
      "execution_count": null,
      "metadata": {
        "id": "L4-DMf0gcEZK"
      },
      "outputs": [],
      "source": [
        "tfidf_vectorizer = TfidfVectorizer(stop_words='english', vocabulary=wordList[1:WORD_KEEP_COUNT+1]) # drop the '' word and use the top 100 words\n",
        "tfidf_X = tfidf_vectorizer.fit_transform(wine_df_clean['description'])\n",
        "if not PREPEND_TO_DESCRIPTION:\n",
        "  numerics = ['int16', 'int32', 'int64', 'float16', 'float32', 'float64']\n",
        "  wine_clean_numeric = wine_df_clean.select_dtypes(include=numerics).values\n",
        "  X_tfidf = sparse.hstack((bow_X, wine_clean_numeric))\n",
        "else:\n",
        "  X_tfidf = bow_X"
      ]
    },
    {
      "cell_type": "markdown",
      "metadata": {
        "id": "3V0IrKeD0KzR"
      },
      "source": [
        "# Modeling\n",
        "___\n"
      ]
    },
    {
      "cell_type": "markdown",
      "metadata": {
        "id": "BNqZXE-20QYe"
      },
      "source": [
        "## Train, Test Split"
      ]
    },
    {
      "cell_type": "code",
      "execution_count": null,
      "metadata": {
        "colab": {
          "base_uri": "https://localhost:8080/"
        },
        "id": "vBwErhjt0UQU",
        "outputId": "a39160cc-24d3-4c15-a996-838520445345"
      },
      "outputs": [
        {
          "output_type": "stream",
          "name": "stdout",
          "text": [
            "Total number of output classes: 215\n"
          ]
        }
      ],
      "source": [
        "PREDICTED_CLASS = 'region_1'\n",
        "y = wine_df_clean[PREDICTED_CLASS]\n",
        "\n",
        "print(f'Total number of output classes: {len(pd.unique(y))}')\n",
        "\n",
        "X_train, X_test, y_train, y_test = train_test_split(X, y, test_size=0.20, random_state=1)\n",
        "X_train, X_val, y_train, y_val = train_test_split(X_train, y_train, test_size=0.20, random_state=1)\n",
        "scaler = StandardScaler(with_mean=False)\n",
        "X_train = scaler.fit_transform(X_train)\n",
        "X_val = scaler.transform(X_val)\n",
        "X_test = scaler.transform(X_test)"
      ]
    },
    {
      "cell_type": "markdown",
      "source": [
        "### Saving Models"
      ],
      "metadata": {
        "id": "wjEMvjzOgpLc"
      }
    },
    {
      "cell_type": "code",
      "source": [
        "import pickle\n",
        "import os\n",
        "\n",
        "def save_model(file_name, model):\n",
        "  try:\n",
        "    prepend = 'prepend' if PREPEND_TO_DESCRIPTION else 'no_prepend'\n",
        "    file_path = f'/content/drive/Shareddrives/CIS_5190_Final_Project/Models/{file_name}_{PREDICTED_CLASS}_{prepend}.sav'\n",
        "    pickle.dump(model, open(file_path, 'wb'))\n",
        "  except:\n",
        "    print('Failed to save model')\n",
        "\n",
        "def load_model(file_name):\n",
        "  try:\n",
        "    prepend = 'prepend' if PREPEND_TO_DESCRIPTION else 'no_prepend'\n",
        "    file_path = f'/content/drive/Shareddrives/CIS_5190_Final_Project/Models/{file_name}_{prepend}.sav'\n",
        "    if os.path.isfile(file_path):\n",
        "      model = pickle.load(open(file_path, 'rb'))\n",
        "      return model\n",
        "    else:\n",
        "      print(f'No model found at {file_path}')\n",
        "      return\n",
        "  except:\n",
        "    print('Failed to load model')"
      ],
      "metadata": {
        "id": "7FuuhZc8gpjb"
      },
      "execution_count": null,
      "outputs": []
    },
    {
      "cell_type": "markdown",
      "metadata": {
        "id": "Ot6hLmFs0Ny0"
      },
      "source": [
        "## Logistic Regression\n"
      ]
    },
    {
      "cell_type": "code",
      "source": [
        "# Try the following solvers that can solve multiclass classification. Skipping newton because it would not converge in a timely manner.\n",
        "solvers = ['sag', 'saga', 'lbfgs']\n",
        "penalties = ['l2', 'none']\n",
        "for solver in solvers:\n",
        "  for penalty in penalties:\n",
        "    clf = LogisticRegression(solver=solver, penalty=penalty).fit(X_train, y_train)\n",
        "    print(\"Solver: \" + solver + \", Penalty: \" + penalty +\", Train Score: \" + str(clf.score(X_train, y_train)))\n",
        "    print(\"Solver: \" + solver + \", Penalty: \" + penalty +\", Val Score: \" + str(clf.score(X_val, y_val)))"
      ],
      "metadata": {
        "colab": {
          "base_uri": "https://localhost:8080/"
        },
        "id": "uCVr6kOUeDO_",
        "outputId": "fa5a567d-1c89-4c75-808e-c8f608d87b82"
      },
      "execution_count": null,
      "outputs": [
        {
          "output_type": "stream",
          "name": "stderr",
          "text": [
            "/usr/local/lib/python3.7/dist-packages/sklearn/linear_model/_sag.py:354: ConvergenceWarning: The max_iter was reached which means the coef_ did not converge\n",
            "  ConvergenceWarning,\n"
          ]
        },
        {
          "output_type": "stream",
          "name": "stdout",
          "text": [
            "Solver: sag, Penalty: l2, Train Score: 0.8268492776858658\n",
            "Solver: sag, Penalty: l2, Val Score: 0.8030427070541684\n"
          ]
        },
        {
          "output_type": "stream",
          "name": "stderr",
          "text": [
            "/usr/local/lib/python3.7/dist-packages/sklearn/linear_model/_sag.py:354: ConvergenceWarning: The max_iter was reached which means the coef_ did not converge\n",
            "  ConvergenceWarning,\n"
          ]
        },
        {
          "output_type": "stream",
          "name": "stdout",
          "text": [
            "Solver: sag, Penalty: none, Train Score: 0.8269175009807098\n",
            "Solver: sag, Penalty: none, Val Score: 0.8030427070541684\n"
          ]
        },
        {
          "output_type": "stream",
          "name": "stderr",
          "text": [
            "/usr/local/lib/python3.7/dist-packages/sklearn/linear_model/_sag.py:354: ConvergenceWarning: The max_iter was reached which means the coef_ did not converge\n",
            "  ConvergenceWarning,\n"
          ]
        },
        {
          "output_type": "stream",
          "name": "stdout",
          "text": [
            "Solver: saga, Penalty: l2, Train Score: 0.8252119186096093\n",
            "Solver: saga, Penalty: l2, Val Score: 0.8033155955792058\n"
          ]
        },
        {
          "output_type": "stream",
          "name": "stderr",
          "text": [
            "/usr/local/lib/python3.7/dist-packages/sklearn/linear_model/_sag.py:354: ConvergenceWarning: The max_iter was reached which means the coef_ did not converge\n",
            "  ConvergenceWarning,\n"
          ]
        },
        {
          "output_type": "stream",
          "name": "stdout",
          "text": [
            "Solver: saga, Penalty: none, Train Score: 0.8251948627858983\n",
            "Solver: saga, Penalty: none, Val Score: 0.8034520398417246\n"
          ]
        },
        {
          "output_type": "stream",
          "name": "stderr",
          "text": [
            "/usr/local/lib/python3.7/dist-packages/sklearn/linear_model/_logistic.py:818: ConvergenceWarning: lbfgs failed to converge (status=1):\n",
            "STOP: TOTAL NO. of ITERATIONS REACHED LIMIT.\n",
            "\n",
            "Increase the number of iterations (max_iter) or scale the data as shown in:\n",
            "    https://scikit-learn.org/stable/modules/preprocessing.html\n",
            "Please also refer to the documentation for alternative solver options:\n",
            "    https://scikit-learn.org/stable/modules/linear_model.html#logistic-regression\n",
            "  extra_warning_msg=_LOGISTIC_SOLVER_CONVERGENCE_MSG,\n"
          ]
        },
        {
          "output_type": "stream",
          "name": "stdout",
          "text": [
            "Solver: lbfgs, Penalty: l2, Train Score: 0.841193225426822\n",
            "Solver: lbfgs, Penalty: l2, Val Score: 0.8079547005048437\n",
            "Solver: lbfgs, Penalty: none, Train Score: 0.8407838856577579\n",
            "Solver: lbfgs, Penalty: none, Val Score: 0.8073407013235093\n"
          ]
        },
        {
          "output_type": "stream",
          "name": "stderr",
          "text": [
            "/usr/local/lib/python3.7/dist-packages/sklearn/linear_model/_logistic.py:818: ConvergenceWarning: lbfgs failed to converge (status=1):\n",
            "STOP: TOTAL NO. of ITERATIONS REACHED LIMIT.\n",
            "\n",
            "Increase the number of iterations (max_iter) or scale the data as shown in:\n",
            "    https://scikit-learn.org/stable/modules/preprocessing.html\n",
            "Please also refer to the documentation for alternative solver options:\n",
            "    https://scikit-learn.org/stable/modules/linear_model.html#logistic-regression\n",
            "  extra_warning_msg=_LOGISTIC_SOLVER_CONVERGENCE_MSG,\n"
          ]
        }
      ]
    },
    {
      "cell_type": "code",
      "source": [
        "# Best performing on the validation data was saga with l2.\n",
        "clf = LogisticRegression(solver='lbfgs', penalty='l2').fit(X_train, y_train)\n",
        "print(\"Final Test Score: \" + str(clf.score(X_test, y_test)))"
      ],
      "metadata": {
        "colab": {
          "base_uri": "https://localhost:8080/"
        },
        "id": "stgb2deMgnix",
        "outputId": "37268bfb-485b-42b6-e3fe-52b452ca9e30"
      },
      "execution_count": null,
      "outputs": [
        {
          "output_type": "stream",
          "name": "stdout",
          "text": [
            "Final Test Score: 0.8074551110625989\n"
          ]
        },
        {
          "output_type": "stream",
          "name": "stderr",
          "text": [
            "/usr/local/lib/python3.7/dist-packages/sklearn/linear_model/_logistic.py:818: ConvergenceWarning: lbfgs failed to converge (status=1):\n",
            "STOP: TOTAL NO. of ITERATIONS REACHED LIMIT.\n",
            "\n",
            "Increase the number of iterations (max_iter) or scale the data as shown in:\n",
            "    https://scikit-learn.org/stable/modules/preprocessing.html\n",
            "Please also refer to the documentation for alternative solver options:\n",
            "    https://scikit-learn.org/stable/modules/linear_model.html#logistic-regression\n",
            "  extra_warning_msg=_LOGISTIC_SOLVER_CONVERGENCE_MSG,\n"
          ]
        }
      ]
    },
    {
      "cell_type": "markdown",
      "metadata": {
        "id": "tQuJO266oCcc"
      },
      "source": [
        "##ADABoost"
      ]
    },
    {
      "cell_type": "code",
      "source": [
        "# initialize the hyperparameters\n",
        "n_estimators = sp_randint(1, 100)\n",
        "max_depth = sp_randint(1, 75)\n",
        "\n",
        "print(n_estimators.rvs())\n",
        "print(max_depth.rvs())"
      ],
      "metadata": {
        "colab": {
          "base_uri": "https://localhost:8080/"
        },
        "id": "SaY39RyRgH1y",
        "outputId": "e40717a6-e889-4ad6-b2f2-d9c18fb0f338"
      },
      "execution_count": null,
      "outputs": [
        {
          "output_type": "stream",
          "name": "stdout",
          "text": [
            "10\n",
            "27\n"
          ]
        }
      ]
    },
    {
      "cell_type": "code",
      "source": [
        "iters = 10\n",
        "for i in range(iters):\n",
        "  depth = max_depth.rvs()\n",
        "  n_estim = n_estimators.rvs()\n",
        "  base_dt = DecisionTreeClassifier(max_depth=depth)\n",
        "  clf = AdaBoostClassifier(base_estimator=base_dt, n_estimators=n_estim, random_state=0)\n",
        "  clf.fit(X_train, y_train)\n",
        "  print(\"For n_estim: \" + str(n_estim) + \" and max_depth: \" + str(depth) + \" Train Score: \" + str(clf.score(X_train, y_train)))\n",
        "  print(\"For n_estim: \" + str(n_estim) + \" and max_depth: \" + str(depth) + \" Val Score: \" + str(clf.score(X_val, y_val)))"
      ],
      "metadata": {
        "colab": {
          "base_uri": "https://localhost:8080/"
        },
        "id": "Q5_SKJjQjYi3",
        "outputId": "acd71457-2aa7-40c5-a765-ab907355c5f5"
      },
      "execution_count": null,
      "outputs": [
        {
          "output_type": "stream",
          "name": "stdout",
          "text": [
            "For n_estim: 30 and max_depth: 39 Train Score: 0.9993348228752708\n",
            "For n_estim: 30 and max_depth: 39 Val Score: 0.7345476872697503\n",
            "For n_estim: 55 and max_depth: 28 Train Score: 0.9904316828981256\n",
            "For n_estim: 55 and max_depth: 28 Val Score: 0.7328421339882658\n",
            "For n_estim: 14 and max_depth: 30 Train Score: 0.9566952635977555\n",
            "For n_estim: 14 and max_depth: 30 Val Score: 0.6953199617956065\n",
            "For n_estim: 92 and max_depth: 44 Train Score: 0.9998976650577339\n",
            "For n_estim: 92 and max_depth: 44 Val Score: 0.7533087733660799\n",
            "For n_estim: 4 and max_depth: 37 Train Score: 0.9482867425082294\n",
            "For n_estim: 4 and max_depth: 37 Val Score: 0.6668713330604448\n",
            "For n_estim: 71 and max_depth: 48 Train Score: 0.9998976650577339\n",
            "For n_estim: 71 and max_depth: 48 Val Score: 0.7545367717287488\n",
            "For n_estim: 21 and max_depth: 1 Train Score: 0.6124405178148079\n",
            "For n_estim: 21 and max_depth: 1 Val Score: 0.6142720698594624\n",
            "For n_estim: 99 and max_depth: 29 Train Score: 0.9951732018897853\n",
            "For n_estim: 99 and max_depth: 29 Val Score: 0.7468276708964388\n",
            "For n_estim: 43 and max_depth: 51 Train Score: 0.9998976650577339\n",
            "For n_estim: 43 and max_depth: 51 Val Score: 0.7479874471278483\n",
            "For n_estim: 26 and max_depth: 34 Train Score: 0.994337466527946\n",
            "For n_estim: 26 and max_depth: 34 Val Score: 0.7316823577568563\n"
          ]
        }
      ]
    },
    {
      "cell_type": "code",
      "execution_count": null,
      "metadata": {
        "colab": {
          "base_uri": "https://localhost:8080/"
        },
        "id": "kPvYChfYmhh3",
        "outputId": "efabe59c-c2fb-4400-e4af-e19805532388"
      },
      "outputs": [
        {
          "output_type": "stream",
          "name": "stdout",
          "text": [
            "0.7462205970637996\n"
          ]
        }
      ],
      "source": [
        "base_dt = DecisionTreeClassifier(max_depth=48)\n",
        "clf = AdaBoostClassifier(base_estimator=base_dt, n_estimators=71, random_state=0)\n",
        "clf.fit(X_train, y_train)\n",
        "print(clf.score(X_test, y_test))"
      ]
    },
    {
      "cell_type": "markdown",
      "metadata": {
        "id": "XuhTwWz3rOoi"
      },
      "source": [
        "##Random Forest\n",
        "| Output Class | Train Accuracy | Validation Accuracy | Test Accuracy | Hyperparameters | Most Important Hyperparameters |\n",
        "| ---- | ---- | ---- | ---- | ---- | ---- |\n",
        "| Region | 47.0% | 28.6% | 28.0% | n_estimators: 500, ccp_alpha: 0, max_depth: 30, min_samples_leaf: 2, min_samples_split: 5 | high n_estimators, medium max_depth |\n",
        "| Province | 71.2% | 57.5% | 56.7% | n_estimators: 50, ccp_alpha: 0, max_depth: 40, min_samples_leaf: 1, min_samples_split: 10 | low n_estimators, medium max_depth |\n",
        "| Country | 81.4% | 74.5% | 74.1% | n_estimators: 50, ccp_alpha: 0, max_depth: 40, min_samples_leaf: 1, min_samples_split: 10 | low n_estimators, medium max_depth |\n",
        "\n",
        "Note: Could have done better with region predictions, but was consistently running into compute issues with high number of output classes and large complex trees"
      ]
    },
    {
      "cell_type": "code",
      "execution_count": null,
      "metadata": {
        "colab": {
          "base_uri": "https://localhost:8080/"
        },
        "id": "Kg00SJRFqAKh",
        "outputId": "5c7205e6-7173-4729-f4af-21abe7ade3f9"
      },
      "outputs": [
        {
          "output_type": "stream",
          "name": "stdout",
          "text": [
            "Fitting 3 folds for each of 10 candidates, totalling 30 fits\n",
            "[CV 1/3; 1/10] START bootstrap=True, ccp_alpha=0, max_depth=100, min_samples_leaf=2, min_samples_split=10, n_estimators=300\n",
            "[CV 1/3; 1/10] END bootstrap=True, ccp_alpha=0, max_depth=100, min_samples_leaf=2, min_samples_split=10, n_estimators=300;, score=0.296 total time= 1.9min\n",
            "[CV 2/3; 1/10] START bootstrap=True, ccp_alpha=0, max_depth=100, min_samples_leaf=2, min_samples_split=10, n_estimators=300\n",
            "[CV 2/3; 1/10] END bootstrap=True, ccp_alpha=0, max_depth=100, min_samples_leaf=2, min_samples_split=10, n_estimators=300;, score=0.294 total time= 1.8min\n",
            "[CV 3/3; 1/10] START bootstrap=True, ccp_alpha=0, max_depth=100, min_samples_leaf=2, min_samples_split=10, n_estimators=300\n",
            "[CV 3/3; 1/10] END bootstrap=True, ccp_alpha=0, max_depth=100, min_samples_leaf=2, min_samples_split=10, n_estimators=300;, score=0.291 total time= 2.0min\n",
            "[CV 1/3; 2/10] START bootstrap=True, ccp_alpha=0, max_depth=100, min_samples_leaf=1, min_samples_split=5, n_estimators=300\n"
          ]
        }
      ],
      "source": [
        "from sklearn.model_selection import RandomizedSearchCV\n",
        "from sklearn.model_selection import PredefinedSplit\n",
        "\n",
        "# Hyperparameter Ranges\n",
        "rf_hyperparam_ranges =  \\\n",
        "{\n",
        " 'bootstrap': [True],\n",
        " 'n_estimators': [50, 100, 300, 500, 700],  # 1000 causes RAM overload\n",
        " 'ccp_alpha': [0, 0.002, 0.005, 0.01, 0.02, 0.03, 0.05],\n",
        " 'max_depth': [10, 20, 30, 40, 50, 60, 70, 80, 90, 100, None],\n",
        " 'min_samples_leaf': [1, 2, 4, 7, 10],\n",
        " 'min_samples_split': [2, 5, 10],\n",
        "}\n",
        "\n",
        "rf = RandomForestClassifier()\n",
        "rf_rscv = RandomizedSearchCV(estimator=rf, param_distributions=rf_hyperparam_ranges, n_iter=10, cv=3, random_state=2022, verbose=10)\n",
        "\n",
        "rf_rscv.fit(X_train, y_train)\n",
        "\n",
        "rf_best = rf_rscv.best_estimator_\n",
        "print(f'Train Accuracy: {rf_best.score(X_train, y_train)}')\n",
        "print(f'Validation Accuracy: {rf_best.score(X_val, y_val)}')\n",
        "print(f'Test Accuracy {rf_best.score(X_test, y_test)}')\n",
        "print(f'Best Params: {rf_best.get_params()}')"
      ]
    },
    {
      "cell_type": "markdown",
      "source": [
        "## BERT"
      ],
      "metadata": {
        "id": "GleCgV2iua1Z"
      }
    },
    {
      "cell_type": "code",
      "source": [
        "!pip install transformers\n",
        "import torch\n",
        "import torch.nn as nn\n",
        "import transformers\n",
        "from transformers import BertTokenizer\n",
        "from transformers import BertTokenizerFast\n",
        "from torch import nn\n",
        "from transformers import BertModel\n",
        "#from transformers import BertTokenizerFast, BertForSequenceClassification, BertModel, AdamW\n",
        "#from torch.utils.data import TensorDataset, DataLoader, RandomSampler, SequentialSampler"
      ],
      "metadata": {
        "id": "ajtjAV6aufM1",
        "colab": {
          "base_uri": "https://localhost:8080/"
        },
        "outputId": "383bc914-1ab4-471b-f050-ba0571d99197"
      },
      "execution_count": null,
      "outputs": [
        {
          "output_type": "stream",
          "name": "stdout",
          "text": [
            "Looking in indexes: https://pypi.org/simple, https://us-python.pkg.dev/colab-wheels/public/simple/\n",
            "Collecting transformers\n",
            "  Downloading transformers-4.25.1-py3-none-any.whl (5.8 MB)\n",
            "\u001b[K     |████████████████████████████████| 5.8 MB 7.3 MB/s \n",
            "\u001b[?25hRequirement already satisfied: packaging>=20.0 in /usr/local/lib/python3.8/dist-packages (from transformers) (21.3)\n",
            "Collecting huggingface-hub<1.0,>=0.10.0\n",
            "  Downloading huggingface_hub-0.11.1-py3-none-any.whl (182 kB)\n",
            "\u001b[K     |████████████████████████████████| 182 kB 70.3 MB/s \n",
            "\u001b[?25hRequirement already satisfied: requests in /usr/local/lib/python3.8/dist-packages (from transformers) (2.23.0)\n",
            "Requirement already satisfied: tqdm>=4.27 in /usr/local/lib/python3.8/dist-packages (from transformers) (4.64.1)\n",
            "Requirement already satisfied: pyyaml>=5.1 in /usr/local/lib/python3.8/dist-packages (from transformers) (6.0)\n",
            "Requirement already satisfied: filelock in /usr/local/lib/python3.8/dist-packages (from transformers) (3.8.0)\n",
            "Requirement already satisfied: numpy>=1.17 in /usr/local/lib/python3.8/dist-packages (from transformers) (1.21.6)\n",
            "Requirement already satisfied: regex!=2019.12.17 in /usr/local/lib/python3.8/dist-packages (from transformers) (2022.6.2)\n",
            "Collecting tokenizers!=0.11.3,<0.14,>=0.11.1\n",
            "  Downloading tokenizers-0.13.2-cp38-cp38-manylinux_2_17_x86_64.manylinux2014_x86_64.whl (7.6 MB)\n",
            "\u001b[K     |████████████████████████████████| 7.6 MB 47.7 MB/s \n",
            "\u001b[?25hRequirement already satisfied: typing-extensions>=3.7.4.3 in /usr/local/lib/python3.8/dist-packages (from huggingface-hub<1.0,>=0.10.0->transformers) (4.4.0)\n",
            "Requirement already satisfied: pyparsing!=3.0.5,>=2.0.2 in /usr/local/lib/python3.8/dist-packages (from packaging>=20.0->transformers) (3.0.9)\n",
            "Requirement already satisfied: chardet<4,>=3.0.2 in /usr/local/lib/python3.8/dist-packages (from requests->transformers) (3.0.4)\n",
            "Requirement already satisfied: urllib3!=1.25.0,!=1.25.1,<1.26,>=1.21.1 in /usr/local/lib/python3.8/dist-packages (from requests->transformers) (1.24.3)\n",
            "Requirement already satisfied: idna<3,>=2.5 in /usr/local/lib/python3.8/dist-packages (from requests->transformers) (2.10)\n",
            "Requirement already satisfied: certifi>=2017.4.17 in /usr/local/lib/python3.8/dist-packages (from requests->transformers) (2022.9.24)\n",
            "Installing collected packages: tokenizers, huggingface-hub, transformers\n",
            "Successfully installed huggingface-hub-0.11.1 tokenizers-0.13.2 transformers-4.25.1\n"
          ]
        }
      ]
    },
    {
      "cell_type": "code",
      "source": [
        "df = wine_df_clean[['country', 'description']]\n",
        "df.head()\n",
        "tokenizer = BertTokenizer.from_pretrained('bert-base-cased')\n",
        "df['country']\n",
        "df"
      ],
      "metadata": {
        "colab": {
          "base_uri": "https://localhost:8080/",
          "height": 520,
          "referenced_widgets": [
            "c489f5aade874900809f8ca24aad302f",
            "0ab2ff913a1a4048ad031ef15e6dce11",
            "e9dcac29a1214b029e9f943d3b14406e",
            "44fdc2d63bb7401690000bffe947a788",
            "ebd35a14f7c345819a65bb8f5ec37a4c",
            "2ab3c838279f4880bf386719e0bc4a97",
            "db38902c91384154883e6ce386ba5f4b",
            "927a508972714e489b2bfcc3c4263692",
            "ef22dab0d0c644cf9f06334746b68490",
            "f12fe46316c147d1a533e76e6c8be317",
            "cbe061aae4ee4f9db288e7501a31a541",
            "d79ee8b2721b4ee3ada33f409b1539ef",
            "97af6fa92f224de3af6ab5dfe23ffee0",
            "91e35775bd1144d2bedcc9703d670308",
            "d2381a6ae607441f8dbb5081259504d3",
            "c4497412bdeb465492aaa30da53eda30",
            "ad8810f8ec9743ac82b69eaba63ac583",
            "5a7d3ae955b14749b08fdac6cbf79828",
            "23e2caeeb3024fdbb5a1a50864ab7a69",
            "18b2a0acab2b47c3a10d12270aacebb3",
            "3aff4c1a9de94bae8054a8e996b58773",
            "75ab18cb02d849699df9ae6a9aade5b1",
            "955a688f544048e6bce602157914cef9",
            "96c3b6f5bb8d49e4af2722d7d476e1fc",
            "b46425a8eedc4717a8e88f17c100de14",
            "70493c87875340f6ba7fa610438ff704",
            "568154d911204ede9e93edf8a0ab4974",
            "699057480d6e40929545d564d270be8c",
            "00ff853d4b4f422b9e702a86695ae543",
            "368563f84147484f92e76cc15eff5b7e",
            "ddffdb82586746eca1787e26ba9af3d4",
            "8247f8f2fefb44f1bc7473827a05cb7a",
            "d9c7a8f234844158a58a2db9d4b9b808"
          ]
        },
        "id": "8OM_kgXCbQgT",
        "outputId": "512a3959-75a6-4d49-dc48-70c95138301e"
      },
      "execution_count": null,
      "outputs": [
        {
          "output_type": "display_data",
          "data": {
            "text/plain": [
              "Downloading:   0%|          | 0.00/213k [00:00<?, ?B/s]"
            ],
            "application/vnd.jupyter.widget-view+json": {
              "version_major": 2,
              "version_minor": 0,
              "model_id": "c489f5aade874900809f8ca24aad302f"
            }
          },
          "metadata": {}
        },
        {
          "output_type": "display_data",
          "data": {
            "text/plain": [
              "Downloading:   0%|          | 0.00/29.0 [00:00<?, ?B/s]"
            ],
            "application/vnd.jupyter.widget-view+json": {
              "version_major": 2,
              "version_minor": 0,
              "model_id": "d79ee8b2721b4ee3ada33f409b1539ef"
            }
          },
          "metadata": {}
        },
        {
          "output_type": "display_data",
          "data": {
            "text/plain": [
              "Downloading:   0%|          | 0.00/570 [00:00<?, ?B/s]"
            ],
            "application/vnd.jupyter.widget-view+json": {
              "version_major": 2,
              "version_minor": 0,
              "model_id": "955a688f544048e6bce602157914cef9"
            }
          },
          "metadata": {}
        },
        {
          "output_type": "execute_result",
          "data": {
            "text/plain": [
              "         country                                        description\n",
              "0          Italy  White_Blend medium_points no_price Aromas incl...\n",
              "1       Portugal  Portuguese_Red medium_points affordable This i...\n",
              "2             US  Pinot_Gris medium_points affordable Tart and s...\n",
              "4             US  Pinot_Noir medium_points expensive Much like t...\n",
              "7         France  Gewürztraminer medium_points standard This dry...\n",
              "...          ...                                                ...\n",
              "129966   Germany  Riesling medium_points standard Notes of honey...\n",
              "129967        US  Pinot_Noir medium_points expensive Citation is...\n",
              "129968    France  Gewürztraminer medium_points standard Well-dra...\n",
              "129969    France  Pinot_Gris medium_points standard A dry style ...\n",
              "129970    France  Gewürztraminer medium_points standard Big, ric...\n",
              "\n",
              "[91612 rows x 2 columns]"
            ],
            "text/html": [
              "\n",
              "  <div id=\"df-3fcdfdb4-9d53-4f7b-a6ce-9d10d077f73a\">\n",
              "    <div class=\"colab-df-container\">\n",
              "      <div>\n",
              "<style scoped>\n",
              "    .dataframe tbody tr th:only-of-type {\n",
              "        vertical-align: middle;\n",
              "    }\n",
              "\n",
              "    .dataframe tbody tr th {\n",
              "        vertical-align: top;\n",
              "    }\n",
              "\n",
              "    .dataframe thead th {\n",
              "        text-align: right;\n",
              "    }\n",
              "</style>\n",
              "<table border=\"1\" class=\"dataframe\">\n",
              "  <thead>\n",
              "    <tr style=\"text-align: right;\">\n",
              "      <th></th>\n",
              "      <th>country</th>\n",
              "      <th>description</th>\n",
              "    </tr>\n",
              "  </thead>\n",
              "  <tbody>\n",
              "    <tr>\n",
              "      <th>0</th>\n",
              "      <td>Italy</td>\n",
              "      <td>White_Blend medium_points no_price Aromas incl...</td>\n",
              "    </tr>\n",
              "    <tr>\n",
              "      <th>1</th>\n",
              "      <td>Portugal</td>\n",
              "      <td>Portuguese_Red medium_points affordable This i...</td>\n",
              "    </tr>\n",
              "    <tr>\n",
              "      <th>2</th>\n",
              "      <td>US</td>\n",
              "      <td>Pinot_Gris medium_points affordable Tart and s...</td>\n",
              "    </tr>\n",
              "    <tr>\n",
              "      <th>4</th>\n",
              "      <td>US</td>\n",
              "      <td>Pinot_Noir medium_points expensive Much like t...</td>\n",
              "    </tr>\n",
              "    <tr>\n",
              "      <th>7</th>\n",
              "      <td>France</td>\n",
              "      <td>Gewürztraminer medium_points standard This dry...</td>\n",
              "    </tr>\n",
              "    <tr>\n",
              "      <th>...</th>\n",
              "      <td>...</td>\n",
              "      <td>...</td>\n",
              "    </tr>\n",
              "    <tr>\n",
              "      <th>129966</th>\n",
              "      <td>Germany</td>\n",
              "      <td>Riesling medium_points standard Notes of honey...</td>\n",
              "    </tr>\n",
              "    <tr>\n",
              "      <th>129967</th>\n",
              "      <td>US</td>\n",
              "      <td>Pinot_Noir medium_points expensive Citation is...</td>\n",
              "    </tr>\n",
              "    <tr>\n",
              "      <th>129968</th>\n",
              "      <td>France</td>\n",
              "      <td>Gewürztraminer medium_points standard Well-dra...</td>\n",
              "    </tr>\n",
              "    <tr>\n",
              "      <th>129969</th>\n",
              "      <td>France</td>\n",
              "      <td>Pinot_Gris medium_points standard A dry style ...</td>\n",
              "    </tr>\n",
              "    <tr>\n",
              "      <th>129970</th>\n",
              "      <td>France</td>\n",
              "      <td>Gewürztraminer medium_points standard Big, ric...</td>\n",
              "    </tr>\n",
              "  </tbody>\n",
              "</table>\n",
              "<p>91612 rows × 2 columns</p>\n",
              "</div>\n",
              "      <button class=\"colab-df-convert\" onclick=\"convertToInteractive('df-3fcdfdb4-9d53-4f7b-a6ce-9d10d077f73a')\"\n",
              "              title=\"Convert this dataframe to an interactive table.\"\n",
              "              style=\"display:none;\">\n",
              "        \n",
              "  <svg xmlns=\"http://www.w3.org/2000/svg\" height=\"24px\"viewBox=\"0 0 24 24\"\n",
              "       width=\"24px\">\n",
              "    <path d=\"M0 0h24v24H0V0z\" fill=\"none\"/>\n",
              "    <path d=\"M18.56 5.44l.94 2.06.94-2.06 2.06-.94-2.06-.94-.94-2.06-.94 2.06-2.06.94zm-11 1L8.5 8.5l.94-2.06 2.06-.94-2.06-.94L8.5 2.5l-.94 2.06-2.06.94zm10 10l.94 2.06.94-2.06 2.06-.94-2.06-.94-.94-2.06-.94 2.06-2.06.94z\"/><path d=\"M17.41 7.96l-1.37-1.37c-.4-.4-.92-.59-1.43-.59-.52 0-1.04.2-1.43.59L10.3 9.45l-7.72 7.72c-.78.78-.78 2.05 0 2.83L4 21.41c.39.39.9.59 1.41.59.51 0 1.02-.2 1.41-.59l7.78-7.78 2.81-2.81c.8-.78.8-2.07 0-2.86zM5.41 20L4 18.59l7.72-7.72 1.47 1.35L5.41 20z\"/>\n",
              "  </svg>\n",
              "      </button>\n",
              "      \n",
              "  <style>\n",
              "    .colab-df-container {\n",
              "      display:flex;\n",
              "      flex-wrap:wrap;\n",
              "      gap: 12px;\n",
              "    }\n",
              "\n",
              "    .colab-df-convert {\n",
              "      background-color: #E8F0FE;\n",
              "      border: none;\n",
              "      border-radius: 50%;\n",
              "      cursor: pointer;\n",
              "      display: none;\n",
              "      fill: #1967D2;\n",
              "      height: 32px;\n",
              "      padding: 0 0 0 0;\n",
              "      width: 32px;\n",
              "    }\n",
              "\n",
              "    .colab-df-convert:hover {\n",
              "      background-color: #E2EBFA;\n",
              "      box-shadow: 0px 1px 2px rgba(60, 64, 67, 0.3), 0px 1px 3px 1px rgba(60, 64, 67, 0.15);\n",
              "      fill: #174EA6;\n",
              "    }\n",
              "\n",
              "    [theme=dark] .colab-df-convert {\n",
              "      background-color: #3B4455;\n",
              "      fill: #D2E3FC;\n",
              "    }\n",
              "\n",
              "    [theme=dark] .colab-df-convert:hover {\n",
              "      background-color: #434B5C;\n",
              "      box-shadow: 0px 1px 3px 1px rgba(0, 0, 0, 0.15);\n",
              "      filter: drop-shadow(0px 1px 2px rgba(0, 0, 0, 0.3));\n",
              "      fill: #FFFFFF;\n",
              "    }\n",
              "  </style>\n",
              "\n",
              "      <script>\n",
              "        const buttonEl =\n",
              "          document.querySelector('#df-3fcdfdb4-9d53-4f7b-a6ce-9d10d077f73a button.colab-df-convert');\n",
              "        buttonEl.style.display =\n",
              "          google.colab.kernel.accessAllowed ? 'block' : 'none';\n",
              "\n",
              "        async function convertToInteractive(key) {\n",
              "          const element = document.querySelector('#df-3fcdfdb4-9d53-4f7b-a6ce-9d10d077f73a');\n",
              "          const dataTable =\n",
              "            await google.colab.kernel.invokeFunction('convertToInteractive',\n",
              "                                                     [key], {});\n",
              "          if (!dataTable) return;\n",
              "\n",
              "          const docLinkHtml = 'Like what you see? Visit the ' +\n",
              "            '<a target=\"_blank\" href=https://colab.research.google.com/notebooks/data_table.ipynb>data table notebook</a>'\n",
              "            + ' to learn more about interactive tables.';\n",
              "          element.innerHTML = '';\n",
              "          dataTable['output_type'] = 'display_data';\n",
              "          await google.colab.output.renderOutput(dataTable, element);\n",
              "          const docLink = document.createElement('div');\n",
              "          docLink.innerHTML = docLinkHtml;\n",
              "          element.appendChild(docLink);\n",
              "        }\n",
              "      </script>\n",
              "    </div>\n",
              "  </div>\n",
              "  "
            ]
          },
          "metadata": {},
          "execution_count": 19
        }
      ]
    },
    {
      "cell_type": "code",
      "source": [
        "labels = {}\n",
        "i = 0\n",
        "for region in df.country.unique():\n",
        "  labels[region] = i\n",
        "  i += 1\n",
        "labels"
      ],
      "metadata": {
        "colab": {
          "base_uri": "https://localhost:8080/"
        },
        "id": "5pMaopNiIFxg",
        "outputId": "b970b8fa-ca20-4266-a28f-53fa9f6a6c7a"
      },
      "execution_count": null,
      "outputs": [
        {
          "output_type": "execute_result",
          "data": {
            "text/plain": [
              "{'Italy': 0,\n",
              " 'Portugal': 1,\n",
              " 'US': 2,\n",
              " 'France': 3,\n",
              " 'Germany': 4,\n",
              " 'Argentina': 5,\n",
              " 'Spain': 6,\n",
              " 'Chile': 7,\n",
              " 'Australia': 8,\n",
              " 'Austria': 9,\n",
              " 'South Africa': 10,\n",
              " 'New Zealand': 11,\n",
              " 'Israel': 12,\n",
              " 'Canada': 13}"
            ]
          },
          "metadata": {},
          "execution_count": 20
        }
      ]
    },
    {
      "cell_type": "code",
      "source": [
        "tokenizer = BertTokenizerFast.from_pretrained('bert-base-cased')\n",
        "# labels_country = {'Italy':0,\n",
        "#           'Portugal':1,\n",
        "#           'US':2,\n",
        "#           'France':3,\n",
        "#           'Germany':4,\n",
        "#           'Argentina':5,\n",
        "#           'Spain':6,\n",
        "#           'Chile':7,\n",
        "#           'Australia':8,\n",
        "#           'Austria':9,\n",
        "#           'South Africa':10,\n",
        "#           'New Zealand':11,\n",
        "#           'Israel':12,\n",
        "#           'Canada':13\n",
        "#           }\n",
        "\n",
        "\n",
        "class Dataset(torch.utils.data.Dataset):\n",
        "\n",
        "    def __init__(self, df):\n",
        "\n",
        "        self.labels = [labels[label] for label in df['country']]\n",
        "        self.texts = [tokenizer(description,\n",
        "                               padding='max_length', max_length = 512, truncation=True,\n",
        "                                return_tensors=\"pt\") for description in df['description']]\n",
        "\n",
        "    def classes(self):\n",
        "        return self.labels\n",
        "\n",
        "    def __len__(self):\n",
        "        return len(self.labels)\n",
        "\n",
        "    def get_batch_labels(self, idx):\n",
        "        # Fetch a batch of labels\n",
        "        return np.array(self.labels[idx])\n",
        "\n",
        "    def get_batch_texts(self, idx):\n",
        "        # Fetch a batch of inputs\n",
        "        return self.texts[idx]\n",
        "\n",
        "    def __getitem__(self, idx):\n",
        "\n",
        "        batch_texts = self.get_batch_texts(idx)\n",
        "        batch_y = self.get_batch_labels(idx)\n",
        "\n",
        "        return batch_texts, batch_y"
      ],
      "metadata": {
        "id": "GeSSjwi5bSuS",
        "colab": {
          "base_uri": "https://localhost:8080/",
          "height": 49,
          "referenced_widgets": [
            "70efbb49d258468aa869e34a60590568",
            "cfd3f7a66404493b80ba086959457c0f",
            "93a66d14febb4948b14a803b183eac26",
            "e5a02105bb5c4256b010e8f1271a229e",
            "dc899b419ca649ffae9f9b372518a4ea",
            "3bd2d39cd9494e2ea9086c97a1ecc752",
            "6c9edb121bc849c1bec06a3fbe39368f",
            "c52ef951e1034fd38ce1602d523c67b3",
            "cce9519c2f9a4698b5e5c4e8fdc2870b",
            "157cb3b821414373b882e2fec68bf1e5",
            "fb588385deb54ea6a7659a82063861fd"
          ]
        },
        "outputId": "8e82a578-9674-4ee1-c261-a68bc688feb0"
      },
      "execution_count": null,
      "outputs": [
        {
          "output_type": "display_data",
          "data": {
            "text/plain": [
              "Downloading:   0%|          | 0.00/436k [00:00<?, ?B/s]"
            ],
            "application/vnd.jupyter.widget-view+json": {
              "version_major": 2,
              "version_minor": 0,
              "model_id": "70efbb49d258468aa869e34a60590568"
            }
          },
          "metadata": {}
        }
      ]
    },
    {
      "cell_type": "code",
      "source": [
        "np.random.seed(100)\n",
        "df_train, df_val, df_test = np.split(df.sample(frac=1, random_state=40),\n",
        "                                     [int(.8*len(df)), int(.9*len(df))])"
      ],
      "metadata": {
        "id": "fZNlC9ZrbXQt"
      },
      "execution_count": null,
      "outputs": []
    },
    {
      "cell_type": "code",
      "source": [
        "df_train.head()"
      ],
      "metadata": {
        "colab": {
          "base_uri": "https://localhost:8080/",
          "height": 206
        },
        "id": "0qmnTwqyY1Hg",
        "outputId": "720d5465-3aa1-4544-8986-cb282bd1fee1"
      },
      "execution_count": null,
      "outputs": [
        {
          "output_type": "execute_result",
          "data": {
            "text/plain": [
              "       country                                        description\n",
              "38363       US  Pinot_Noir medium_points standard The entry-le...\n",
              "83823    Italy  Sparkling_Blend high_points expensive Subtle b...\n",
              "120348      US  Rosé low_points affordable A rosé of 100% Mour...\n",
              "112840      US  Cabernet_Sauvignon medium_points expensive Tas...\n",
              "90599       US  Pinot_Noir high_points expensive This well-lov..."
            ],
            "text/html": [
              "\n",
              "  <div id=\"df-bb0c5450-0617-419a-b8bd-058d7b8b3538\">\n",
              "    <div class=\"colab-df-container\">\n",
              "      <div>\n",
              "<style scoped>\n",
              "    .dataframe tbody tr th:only-of-type {\n",
              "        vertical-align: middle;\n",
              "    }\n",
              "\n",
              "    .dataframe tbody tr th {\n",
              "        vertical-align: top;\n",
              "    }\n",
              "\n",
              "    .dataframe thead th {\n",
              "        text-align: right;\n",
              "    }\n",
              "</style>\n",
              "<table border=\"1\" class=\"dataframe\">\n",
              "  <thead>\n",
              "    <tr style=\"text-align: right;\">\n",
              "      <th></th>\n",
              "      <th>country</th>\n",
              "      <th>description</th>\n",
              "    </tr>\n",
              "  </thead>\n",
              "  <tbody>\n",
              "    <tr>\n",
              "      <th>38363</th>\n",
              "      <td>US</td>\n",
              "      <td>Pinot_Noir medium_points standard The entry-le...</td>\n",
              "    </tr>\n",
              "    <tr>\n",
              "      <th>83823</th>\n",
              "      <td>Italy</td>\n",
              "      <td>Sparkling_Blend high_points expensive Subtle b...</td>\n",
              "    </tr>\n",
              "    <tr>\n",
              "      <th>120348</th>\n",
              "      <td>US</td>\n",
              "      <td>Rosé low_points affordable A rosé of 100% Mour...</td>\n",
              "    </tr>\n",
              "    <tr>\n",
              "      <th>112840</th>\n",
              "      <td>US</td>\n",
              "      <td>Cabernet_Sauvignon medium_points expensive Tas...</td>\n",
              "    </tr>\n",
              "    <tr>\n",
              "      <th>90599</th>\n",
              "      <td>US</td>\n",
              "      <td>Pinot_Noir high_points expensive This well-lov...</td>\n",
              "    </tr>\n",
              "  </tbody>\n",
              "</table>\n",
              "</div>\n",
              "      <button class=\"colab-df-convert\" onclick=\"convertToInteractive('df-bb0c5450-0617-419a-b8bd-058d7b8b3538')\"\n",
              "              title=\"Convert this dataframe to an interactive table.\"\n",
              "              style=\"display:none;\">\n",
              "        \n",
              "  <svg xmlns=\"http://www.w3.org/2000/svg\" height=\"24px\"viewBox=\"0 0 24 24\"\n",
              "       width=\"24px\">\n",
              "    <path d=\"M0 0h24v24H0V0z\" fill=\"none\"/>\n",
              "    <path d=\"M18.56 5.44l.94 2.06.94-2.06 2.06-.94-2.06-.94-.94-2.06-.94 2.06-2.06.94zm-11 1L8.5 8.5l.94-2.06 2.06-.94-2.06-.94L8.5 2.5l-.94 2.06-2.06.94zm10 10l.94 2.06.94-2.06 2.06-.94-2.06-.94-.94-2.06-.94 2.06-2.06.94z\"/><path d=\"M17.41 7.96l-1.37-1.37c-.4-.4-.92-.59-1.43-.59-.52 0-1.04.2-1.43.59L10.3 9.45l-7.72 7.72c-.78.78-.78 2.05 0 2.83L4 21.41c.39.39.9.59 1.41.59.51 0 1.02-.2 1.41-.59l7.78-7.78 2.81-2.81c.8-.78.8-2.07 0-2.86zM5.41 20L4 18.59l7.72-7.72 1.47 1.35L5.41 20z\"/>\n",
              "  </svg>\n",
              "      </button>\n",
              "      \n",
              "  <style>\n",
              "    .colab-df-container {\n",
              "      display:flex;\n",
              "      flex-wrap:wrap;\n",
              "      gap: 12px;\n",
              "    }\n",
              "\n",
              "    .colab-df-convert {\n",
              "      background-color: #E8F0FE;\n",
              "      border: none;\n",
              "      border-radius: 50%;\n",
              "      cursor: pointer;\n",
              "      display: none;\n",
              "      fill: #1967D2;\n",
              "      height: 32px;\n",
              "      padding: 0 0 0 0;\n",
              "      width: 32px;\n",
              "    }\n",
              "\n",
              "    .colab-df-convert:hover {\n",
              "      background-color: #E2EBFA;\n",
              "      box-shadow: 0px 1px 2px rgba(60, 64, 67, 0.3), 0px 1px 3px 1px rgba(60, 64, 67, 0.15);\n",
              "      fill: #174EA6;\n",
              "    }\n",
              "\n",
              "    [theme=dark] .colab-df-convert {\n",
              "      background-color: #3B4455;\n",
              "      fill: #D2E3FC;\n",
              "    }\n",
              "\n",
              "    [theme=dark] .colab-df-convert:hover {\n",
              "      background-color: #434B5C;\n",
              "      box-shadow: 0px 1px 3px 1px rgba(0, 0, 0, 0.15);\n",
              "      filter: drop-shadow(0px 1px 2px rgba(0, 0, 0, 0.3));\n",
              "      fill: #FFFFFF;\n",
              "    }\n",
              "  </style>\n",
              "\n",
              "      <script>\n",
              "        const buttonEl =\n",
              "          document.querySelector('#df-bb0c5450-0617-419a-b8bd-058d7b8b3538 button.colab-df-convert');\n",
              "        buttonEl.style.display =\n",
              "          google.colab.kernel.accessAllowed ? 'block' : 'none';\n",
              "\n",
              "        async function convertToInteractive(key) {\n",
              "          const element = document.querySelector('#df-bb0c5450-0617-419a-b8bd-058d7b8b3538');\n",
              "          const dataTable =\n",
              "            await google.colab.kernel.invokeFunction('convertToInteractive',\n",
              "                                                     [key], {});\n",
              "          if (!dataTable) return;\n",
              "\n",
              "          const docLinkHtml = 'Like what you see? Visit the ' +\n",
              "            '<a target=\"_blank\" href=https://colab.research.google.com/notebooks/data_table.ipynb>data table notebook</a>'\n",
              "            + ' to learn more about interactive tables.';\n",
              "          element.innerHTML = '';\n",
              "          dataTable['output_type'] = 'display_data';\n",
              "          await google.colab.output.renderOutput(dataTable, element);\n",
              "          const docLink = document.createElement('div');\n",
              "          docLink.innerHTML = docLinkHtml;\n",
              "          element.appendChild(docLink);\n",
              "        }\n",
              "      </script>\n",
              "    </div>\n",
              "  </div>\n",
              "  "
            ]
          },
          "metadata": {},
          "execution_count": 35
        }
      ]
    },
    {
      "cell_type": "code",
      "source": [
        "from torch import nn\n",
        "from transformers import BertModel\n",
        "\n",
        "class BertClassifier(nn.Module):\n",
        "\n",
        "    def __init__(self, dropout=0.5):\n",
        "\n",
        "        super(BertClassifier, self).__init__()\n",
        "\n",
        "        self.bert = BertModel.from_pretrained('bert-base-cased')\n",
        "        self.dropout = nn.Dropout(dropout)\n",
        "        self.linear = nn.Linear(768, 14)\n",
        "        self.relu = nn.ReLU()\n",
        "\n",
        "    def forward(self, input_id, mask):\n",
        "\n",
        "        _, pooled_output = self.bert(input_ids= input_id, attention_mask=mask,return_dict=False)\n",
        "        dropout_output = self.dropout(pooled_output)\n",
        "        linear_output = self.linear(dropout_output)\n",
        "        final_layer = self.relu(linear_output)\n",
        "\n",
        "        return final_layer"
      ],
      "metadata": {
        "id": "BEkc5ByQbZIK"
      },
      "execution_count": null,
      "outputs": []
    },
    {
      "cell_type": "code",
      "source": [
        "from torch.optim import AdamW\n",
        "from tqdm import tqdm\n",
        "import os\n",
        "os.environ['CUDA_LAUNCH_BLOCKING'] = '1'\n",
        "\n",
        "def train(model, train_data, val_data, learning_rate, epochs):\n",
        "\n",
        "    train, val = Dataset(train_data), Dataset(val_data)\n",
        "\n",
        "    train_dataloader = torch.utils.data.DataLoader(train, batch_size=2, shuffle=True)\n",
        "    val_dataloader = torch.utils.data.DataLoader(val, batch_size=2)\n",
        "\n",
        "    use_cuda = torch.cuda.is_available()\n",
        "    device = torch.device(\"cuda\" if use_cuda else \"cpu\")\n",
        "\n",
        "    criterion = nn.CrossEntropyLoss()\n",
        "    optimizer = AdamW(model.parameters(), lr= learning_rate)\n",
        "\n",
        "    if use_cuda:\n",
        "\n",
        "            CUDA_LAUNCH_BLOCKING=1\n",
        "            model = model.cuda()\n",
        "            criterion = criterion.cuda()\n",
        "\n",
        "    for epoch_num in range(epochs):\n",
        "\n",
        "            total_acc_train = 0\n",
        "            total_loss_train = 0\n",
        "\n",
        "            for train_input, train_label in tqdm(train_dataloader):\n",
        "\n",
        "                train_label = train_label.to(device)\n",
        "                mask = train_input['attention_mask'].to(device)\n",
        "                input_id = train_input['input_ids'].squeeze(1).to(device)\n",
        "\n",
        "                output = model(input_id, mask)\n",
        "\n",
        "                batch_loss = criterion(output, train_label.long())\n",
        "                total_loss_train += batch_loss.item()\n",
        "\n",
        "                acc = (output.argmax(dim=1) == train_label).sum().item()\n",
        "                total_acc_train += acc\n",
        "\n",
        "                model.zero_grad()\n",
        "                batch_loss.backward()\n",
        "                optimizer.step()\n",
        "\n",
        "            total_acc_val = 0\n",
        "            total_loss_val = 0\n",
        "\n",
        "            with torch.no_grad():\n",
        "\n",
        "                for val_input, val_label in val_dataloader:\n",
        "\n",
        "                    val_label = val_label.to(device)\n",
        "                    mask = val_input['attention_mask'].to(device)\n",
        "                    input_id = val_input['input_ids'].squeeze(1).to(device)\n",
        "\n",
        "                    output = model(input_id, mask)\n",
        "\n",
        "                    batch_loss = criterion(output, val_label.long())\n",
        "                    total_loss_val += batch_loss.item()\n",
        "\n",
        "                    acc = (output.argmax(dim=1) == val_label).sum().item()\n",
        "                    total_acc_val += acc\n",
        "\n",
        "            print(\n",
        "                f'Epochs: {epoch_num + 1} | Train Loss: {total_loss_train / len(train_data): .3f} \\\n",
        "                | Train Accuracy: {total_acc_train / len(train_data): .3f} \\\n",
        "                | Val Loss: {total_loss_val / len(val_data): .3f} \\\n",
        "                | Val Accuracy: {total_acc_val / len(val_data): .3f}')\n",
        "\n",
        "EPOCHS = 3\n",
        "model = BertClassifier()\n",
        "LR = 1e-5\n",
        "\n",
        "# train(model, df_train, df_val, LR, EPOCHS)"
      ],
      "metadata": {
        "colab": {
          "base_uri": "https://localhost:8080/",
          "height": 123,
          "referenced_widgets": [
            "97fd73f1b52546e5aa926c0f4f328591",
            "c47ce0830f7340a28db2528977e2dd99",
            "1ded8a92d3b0444ea80ee881cde8a7e8",
            "2609202b54b844b2a8ae3e9b04b013b8",
            "bb210e6324a24d85aadfcdfca0b55db2",
            "b27257aae3934105a39416a7ab473959",
            "eb6db2eef6f84777b40767e7d36d857b",
            "020ec382bb7c410f9f04ef1ad40bfae8",
            "f80d67b58de34eec8f86a0b5ed84e1e6",
            "2fea0328f2ce46eab30dd2b4ca47368f",
            "1e6abc8ed76f4ab99937f2c58fd78b83"
          ]
        },
        "id": "4ip1tPnZba7o",
        "outputId": "26eb78c0-3da2-4aad-9ec6-7274adc0349d"
      },
      "execution_count": null,
      "outputs": [
        {
          "output_type": "display_data",
          "data": {
            "text/plain": [
              "Downloading:   0%|          | 0.00/436M [00:00<?, ?B/s]"
            ],
            "application/vnd.jupyter.widget-view+json": {
              "version_major": 2,
              "version_minor": 0,
              "model_id": "97fd73f1b52546e5aa926c0f4f328591"
            }
          },
          "metadata": {}
        },
        {
          "output_type": "stream",
          "name": "stderr",
          "text": [
            "Some weights of the model checkpoint at bert-base-cased were not used when initializing BertModel: ['cls.seq_relationship.weight', 'cls.predictions.transform.LayerNorm.bias', 'cls.predictions.transform.dense.weight', 'cls.predictions.transform.dense.bias', 'cls.predictions.decoder.weight', 'cls.seq_relationship.bias', 'cls.predictions.transform.LayerNorm.weight', 'cls.predictions.bias']\n",
            "- This IS expected if you are initializing BertModel from the checkpoint of a model trained on another task or with another architecture (e.g. initializing a BertForSequenceClassification model from a BertForPreTraining model).\n",
            "- This IS NOT expected if you are initializing BertModel from the checkpoint of a model that you expect to be exactly identical (initializing a BertForSequenceClassification model from a BertForSequenceClassification model).\n"
          ]
        }
      ]
    },
    {
      "cell_type": "code",
      "source": [
        "os.environ['CUDA_LAUNCH_BLOCKING'] = '1'\n",
        "\n",
        "def evaluate(model, test_data):\n",
        "\n",
        "    test = Dataset(test_data)\n",
        "\n",
        "    test_dataloader = torch.utils.data.DataLoader(test, batch_size=2)\n",
        "\n",
        "    use_cuda = torch.cuda.is_available()\n",
        "    device = torch.device(\"cuda\" if use_cuda else \"cpu\")\n",
        "\n",
        "    if use_cuda:\n",
        "\n",
        "        CUDA_LAUNCH_BLOCKING=1\n",
        "        model = model.cuda()\n",
        "\n",
        "    total_acc_test = 0\n",
        "    with torch.no_grad():\n",
        "\n",
        "        for test_input, test_label in test_dataloader:\n",
        "\n",
        "              test_label = test_label.to(device)\n",
        "              mask = test_input['attention_mask'].to(device)\n",
        "              input_id = test_input['input_ids'].squeeze(1).to(device)\n",
        "\n",
        "              output = model(input_id, mask)\n",
        "\n",
        "              acc = (output.argmax(dim=1) == test_label).sum().item()\n",
        "              total_acc_test += acc\n",
        "\n",
        "    print(f'Test Accuracy: {total_acc_test / len(test_data): .3f}')\n",
        "\n",
        "# evaluate(model, df_test)"
      ],
      "metadata": {
        "id": "Aqx_NdHV_ehe"
      },
      "execution_count": null,
      "outputs": []
    },
    {
      "cell_type": "code",
      "source": [
        "pickled_model = pickle.load(open('/content/drive/Shareddrives/CIS_5190_Final_Project/Models/BERT/bert-15k.sav', 'rb'))\n",
        "evaluate(pickled_model, df_train.head(15000))"
      ],
      "metadata": {
        "colab": {
          "base_uri": "https://localhost:8080/"
        },
        "id": "frJrxqE36mxk",
        "outputId": "fead3ead-7272-4dce-d75a-d33043aeb74e"
      },
      "execution_count": null,
      "outputs": [
        {
          "output_type": "stream",
          "name": "stdout",
          "text": [
            "Test Accuracy:  0.189\n"
          ]
        }
      ]
    },
    {
      "cell_type": "markdown",
      "metadata": {
        "id": "HMhOSIIqrjZA"
      },
      "source": [
        "## kMeans\n",
        "\n",
        "Heavily influenced by: https://www.kaggle.com/code/kitakoj18/exploring-wine-descriptions-with-nlp-and-kmeans\n"
      ]
    },
    {
      "cell_type": "code",
      "execution_count": null,
      "metadata": {
        "id": "VZi8po7WhOD9",
        "colab": {
          "base_uri": "https://localhost:8080/"
        },
        "outputId": "69f00063-7316-4b33-ddea-cc7eebaa0ef5"
      },
      "outputs": [
        {
          "output_type": "execute_result",
          "data": {
            "text/plain": [
              "Index(['Pinot Noir', 'Chardonnay', 'Cabernet Sauvignon', 'Red Blend',\n",
              "       'Bordeaux-style Red Blend', 'Riesling'],\n",
              "      dtype='object', name='variety')"
            ]
          },
          "metadata": {},
          "execution_count": 21
        }
      ],
      "source": [
        "top_varieties = wine_df_clean.groupby('variety').count().sort_values('points', ascending=False)['points'].head(6).index\n",
        "\n",
        "top_varieties"
      ]
    },
    {
      "cell_type": "code",
      "execution_count": null,
      "metadata": {
        "id": "V8PfdejBrj6n",
        "colab": {
          "base_uri": "https://localhost:8080/"
        },
        "outputId": "afb8e804-5b01-4fc0-ab4d-8299e49985e0"
      },
      "outputs": [
        {
          "output_type": "stream",
          "name": "stderr",
          "text": [
            "/usr/local/lib/python3.7/dist-packages/ipykernel_launcher.py:22: SettingWithCopyWarning: \n",
            "A value is trying to be set on a copy of a slice from a DataFrame.\n",
            "Try using .loc[row_indexer,col_indexer] = value instead\n",
            "\n",
            "See the caveats in the documentation: https://pandas.pydata.org/pandas-docs/stable/user_guide/indexing.html#returning-a-view-versus-a-copy\n",
            "/usr/local/lib/python3.7/dist-packages/ipykernel_launcher.py:22: SettingWithCopyWarning: \n",
            "A value is trying to be set on a copy of a slice from a DataFrame.\n",
            "Try using .loc[row_indexer,col_indexer] = value instead\n",
            "\n",
            "See the caveats in the documentation: https://pandas.pydata.org/pandas-docs/stable/user_guide/indexing.html#returning-a-view-versus-a-copy\n",
            "/usr/local/lib/python3.7/dist-packages/ipykernel_launcher.py:22: SettingWithCopyWarning: \n",
            "A value is trying to be set on a copy of a slice from a DataFrame.\n",
            "Try using .loc[row_indexer,col_indexer] = value instead\n",
            "\n",
            "See the caveats in the documentation: https://pandas.pydata.org/pandas-docs/stable/user_guide/indexing.html#returning-a-view-versus-a-copy\n",
            "/usr/local/lib/python3.7/dist-packages/ipykernel_launcher.py:22: SettingWithCopyWarning: \n",
            "A value is trying to be set on a copy of a slice from a DataFrame.\n",
            "Try using .loc[row_indexer,col_indexer] = value instead\n",
            "\n",
            "See the caveats in the documentation: https://pandas.pydata.org/pandas-docs/stable/user_guide/indexing.html#returning-a-view-versus-a-copy\n",
            "/usr/local/lib/python3.7/dist-packages/ipykernel_launcher.py:22: SettingWithCopyWarning: \n",
            "A value is trying to be set on a copy of a slice from a DataFrame.\n",
            "Try using .loc[row_indexer,col_indexer] = value instead\n",
            "\n",
            "See the caveats in the documentation: https://pandas.pydata.org/pandas-docs/stable/user_guide/indexing.html#returning-a-view-versus-a-copy\n",
            "/usr/local/lib/python3.7/dist-packages/ipykernel_launcher.py:22: SettingWithCopyWarning: \n",
            "A value is trying to be set on a copy of a slice from a DataFrame.\n",
            "Try using .loc[row_indexer,col_indexer] = value instead\n",
            "\n",
            "See the caveats in the documentation: https://pandas.pydata.org/pandas-docs/stable/user_guide/indexing.html#returning-a-view-versus-a-copy\n"
          ]
        }
      ],
      "source": [
        "REGION_COL = 'province'\n",
        "NUM_CLUSTERS = 14 # 14 not bad for province\n",
        "VERBOSE = False\n",
        "\n",
        "def calc_variety_cluster(variety):\n",
        "  wine_df_variety = wine_df_clean[wine_df_clean['variety'] == variety]\n",
        "\n",
        "  # tokenize description\n",
        "  tfidf_vectorizerkm = TfidfVectorizer(stop_words='english', vocabulary=wordList[1:301])\n",
        "  tfidf_Xkm = tfidf_vectorizerkm.fit_transform(wine_df_variety['description'])\n",
        "\n",
        "  # run kmeans\n",
        "  kmeans = KMeans(n_clusters=NUM_CLUSTERS)\n",
        "  kmeans.fit(tfidf_Xkm)\n",
        "  words = tfidf_vectorizerkm.get_feature_names_out()\n",
        "  common_words = kmeans.cluster_centers_.argsort()[:,-1:-11:-1]\n",
        "  if VERBOSE:\n",
        "    print(f'Top words for {variety} variety')\n",
        "    for num, centroid in enumerate(common_words):\n",
        "        print(str(num) + ' : ' + ', '.join(words[word] for word in centroid))\n",
        "\n",
        "  wine_df_variety['cluster'] = kmeans.labels_\n",
        "  return wine_df_variety\n",
        "\n",
        "varieties = {}\n",
        "for variety in top_varieties:\n",
        "  varieties[variety] = calc_variety_cluster(variety)"
      ]
    },
    {
      "cell_type": "code",
      "execution_count": null,
      "metadata": {
        "id": "KcpQOC9_gDug",
        "colab": {
          "base_uri": "https://localhost:8080/",
          "height": 1000
        },
        "outputId": "ece96eba-92d4-4357-9a08-9ba54e68c388"
      },
      "outputs": [
        {
          "output_type": "display_data",
          "data": {
            "text/plain": [
              "<Figure size 1800x1800 with 12 Axes>"
            ],
            "image/png": "[encoded data removed]"
          },
          "metadata": {
            "needs_background": "light"
          }
        }
      ],
      "source": [
        "def plot_kmeans(ax, variety):\n",
        "  clusters_norm = varieties[variety].groupby(['cluster', REGION_COL]).size().unstack(level=REGION_COL)\n",
        "  for col in clusters_norm:\n",
        "    clusters_norm[col] = clusters_norm[col] / clusters_norm[col].sum()  # normalize each column on total instances in that column\n",
        "  sns.heatmap(clusters_norm, ax=ax, cmap='Reds')\n",
        "  ax.set_xlabel(REGION_COL, fontdict = {'weight': 'bold', 'size': 20})\n",
        "  ax.set_ylabel('cluster', fontdict = {'weight': 'bold', 'size': 20})\n",
        "  ax.set_title(variety)\n",
        "  for label in ax.get_xticklabels():\n",
        "      label.set_size(14)\n",
        "      label.set_weight(\"bold\")\n",
        "  for label in ax.get_yticklabels():\n",
        "      label.set_size(14)\n",
        "      label.set_weight(\"bold\")\n",
        "main_fig, axes = plt.subplots(3, 2, figsize=(25, 25))\n",
        "ax_range = [(0,0),(0,1),(1,0),(1,1),(2,0),(2,1)]\n",
        "for i in range(len(varieties)):\n",
        "  plot_kmeans(axes[ax_range[i]], top_varieties[i])\n"
      ]
    }
  ],
  "metadata": {
    "colab": {
      "provenance": [],
      "collapsed_sections": [
        "FPr4VmTtqdpf",
        "YW-9dAqXq-ae",
        "usPYF-08rIOv",
        "XuhTwWz3rOoi"
      ],
      "toc_visible": true
    },
    "kernelspec": {
      "display_name": "Python 3",
      "name": "python3"
    },
    "language_info": {
      "name": "python"
    },
    "accelerator": "GPU",
    "gpuClass": "standard",
    "widgets": {
      "application/vnd.jupyter.widget-state+json": {
        "c489f5aade874900809f8ca24aad302f": {
          "model_module": "@jupyter-widgets/controls",
          "model_name": "HBoxModel",
          "model_module_version": "1.5.0",
          "state": {
            "_dom_classes": [],
            "_model_module": "@jupyter-widgets/controls",
            "_model_module_version": "1.5.0",
            "_model_name": "HBoxModel",
            "_view_count": null,
            "_view_module": "@jupyter-widgets/controls",
            "_view_module_version": "1.5.0",
            "_view_name": "HBoxView",
            "box_style": "",
            "children": [
              "IPY_MODEL_0ab2ff913a1a4048ad031ef15e6dce11",
              "IPY_MODEL_e9dcac29a1214b029e9f943d3b14406e",
              "IPY_MODEL_44fdc2d63bb7401690000bffe947a788"
            ],
            "layout": "IPY_MODEL_ebd35a14f7c345819a65bb8f5ec37a4c"
          }
        },
        "0ab2ff913a1a4048ad031ef15e6dce11": {
          "model_module": "@jupyter-widgets/controls",
          "model_name": "HTMLModel",
          "model_module_version": "1.5.0",
          "state": {
            "_dom_classes": [],
            "_model_module": "@jupyter-widgets/controls",
            "_model_module_version": "1.5.0",
            "_model_name": "HTMLModel",
            "_view_count": null,
            "_view_module": "@jupyter-widgets/controls",
            "_view_module_version": "1.5.0",
            "_view_name": "HTMLView",
            "description": "",
            "description_tooltip": null,
            "layout": "IPY_MODEL_2ab3c838279f4880bf386719e0bc4a97",
            "placeholder": "​",
            "style": "IPY_MODEL_db38902c91384154883e6ce386ba5f4b",
            "value": "Downloading: 100%"
          }
        },
        "e9dcac29a1214b029e9f943d3b14406e": {
          "model_module": "@jupyter-widgets/controls",
          "model_name": "FloatProgressModel",
          "model_module_version": "1.5.0",
          "state": {
            "_dom_classes": [],
            "_model_module": "@jupyter-widgets/controls",
            "_model_module_version": "1.5.0",
            "_model_name": "FloatProgressModel",
            "_view_count": null,
            "_view_module": "@jupyter-widgets/controls",
            "_view_module_version": "1.5.0",
            "_view_name": "ProgressView",
            "bar_style": "success",
            "description": "",
            "description_tooltip": null,
            "layout": "IPY_MODEL_927a508972714e489b2bfcc3c4263692",
            "max": 213450,
            "min": 0,
            "orientation": "horizontal",
            "style": "IPY_MODEL_ef22dab0d0c644cf9f06334746b68490",
            "value": 213450
          }
        },
        "44fdc2d63bb7401690000bffe947a788": {
          "model_module": "@jupyter-widgets/controls",
          "model_name": "HTMLModel",
          "model_module_version": "1.5.0",
          "state": {
            "_dom_classes": [],
            "_model_module": "@jupyter-widgets/controls",
            "_model_module_version": "1.5.0",
            "_model_name": "HTMLModel",
            "_view_count": null,
            "_view_module": "@jupyter-widgets/controls",
            "_view_module_version": "1.5.0",
            "_view_name": "HTMLView",
            "description": "",
            "description_tooltip": null,
            "layout": "IPY_MODEL_f12fe46316c147d1a533e76e6c8be317",
            "placeholder": "​",
            "style": "IPY_MODEL_cbe061aae4ee4f9db288e7501a31a541",
            "value": " 213k/213k [00:00&lt;00:00, 507kB/s]"
          }
        },
        "ebd35a14f7c345819a65bb8f5ec37a4c": {
          "model_module": "@jupyter-widgets/base",
          "model_name": "LayoutModel",
          "model_module_version": "1.2.0",
          "state": {
            "_model_module": "@jupyter-widgets/base",
            "_model_module_version": "1.2.0",
            "_model_name": "LayoutModel",
            "_view_count": null,
            "_view_module": "@jupyter-widgets/base",
            "_view_module_version": "1.2.0",
            "_view_name": "LayoutView",
            "align_content": null,
            "align_items": null,
            "align_self": null,
            "border": null,
            "bottom": null,
            "display": null,
            "flex": null,
            "flex_flow": null,
            "grid_area": null,
            "grid_auto_columns": null,
            "grid_auto_flow": null,
            "grid_auto_rows": null,
            "grid_column": null,
            "grid_gap": null,
            "grid_row": null,
            "grid_template_areas": null,
            "grid_template_columns": null,
            "grid_template_rows": null,
            "height": null,
            "justify_content": null,
            "justify_items": null,
            "left": null,
            "margin": null,
            "max_height": null,
            "max_width": null,
            "min_height": null,
            "min_width": null,
            "object_fit": null,
            "object_position": null,
            "order": null,
            "overflow": null,
            "overflow_x": null,
            "overflow_y": null,
            "padding": null,
            "right": null,
            "top": null,
            "visibility": null,
            "width": null
          }
        },
        "2ab3c838279f4880bf386719e0bc4a97": {
          "model_module": "@jupyter-widgets/base",
          "model_name": "LayoutModel",
          "model_module_version": "1.2.0",
          "state": {
            "_model_module": "@jupyter-widgets/base",
            "_model_module_version": "1.2.0",
            "_model_name": "LayoutModel",
            "_view_count": null,
            "_view_module": "@jupyter-widgets/base",
            "_view_module_version": "1.2.0",
            "_view_name": "LayoutView",
            "align_content": null,
            "align_items": null,
            "align_self": null,
            "border": null,
            "bottom": null,
            "display": null,
            "flex": null,
            "flex_flow": null,
            "grid_area": null,
            "grid_auto_columns": null,
            "grid_auto_flow": null,
            "grid_auto_rows": null,
            "grid_column": null,
            "grid_gap": null,
            "grid_row": null,
            "grid_template_areas": null,
            "grid_template_columns": null,
            "grid_template_rows": null,
            "height": null,
            "justify_content": null,
            "justify_items": null,
            "left": null,
            "margin": null,
            "max_height": null,
            "max_width": null,
            "min_height": null,
            "min_width": null,
            "object_fit": null,
            "object_position": null,
            "order": null,
            "overflow": null,
            "overflow_x": null,
            "overflow_y": null,
            "padding": null,
            "right": null,
            "top": null,
            "visibility": null,
            "width": null
          }
        },
        "db38902c91384154883e6ce386ba5f4b": {
          "model_module": "@jupyter-widgets/controls",
          "model_name": "DescriptionStyleModel",
          "model_module_version": "1.5.0",
          "state": {
            "_model_module": "@jupyter-widgets/controls",
            "_model_module_version": "1.5.0",
            "_model_name": "DescriptionStyleModel",
            "_view_count": null,
            "_view_module": "@jupyter-widgets/base",
            "_view_module_version": "1.2.0",
            "_view_name": "StyleView",
            "description_width": ""
          }
        },
        "927a508972714e489b2bfcc3c4263692": {
          "model_module": "@jupyter-widgets/base",
          "model_name": "LayoutModel",
          "model_module_version": "1.2.0",
          "state": {
            "_model_module": "@jupyter-widgets/base",
            "_model_module_version": "1.2.0",
            "_model_name": "LayoutModel",
            "_view_count": null,
            "_view_module": "@jupyter-widgets/base",
            "_view_module_version": "1.2.0",
            "_view_name": "LayoutView",
            "align_content": null,
            "align_items": null,
            "align_self": null,
            "border": null,
            "bottom": null,
            "display": null,
            "flex": null,
            "flex_flow": null,
            "grid_area": null,
            "grid_auto_columns": null,
            "grid_auto_flow": null,
            "grid_auto_rows": null,
            "grid_column": null,
            "grid_gap": null,
            "grid_row": null,
            "grid_template_areas": null,
            "grid_template_columns": null,
            "grid_template_rows": null,
            "height": null,
            "justify_content": null,
            "justify_items": null,
            "left": null,
            "margin": null,
            "max_height": null,
            "max_width": null,
            "min_height": null,
            "min_width": null,
            "object_fit": null,
            "object_position": null,
            "order": null,
            "overflow": null,
            "overflow_x": null,
            "overflow_y": null,
            "padding": null,
            "right": null,
            "top": null,
            "visibility": null,
            "width": null
          }
        },
        "ef22dab0d0c644cf9f06334746b68490": {
          "model_module": "@jupyter-widgets/controls",
          "model_name": "ProgressStyleModel",
          "model_module_version": "1.5.0",
          "state": {
            "_model_module": "@jupyter-widgets/controls",
            "_model_module_version": "1.5.0",
            "_model_name": "ProgressStyleModel",
            "_view_count": null,
            "_view_module": "@jupyter-widgets/base",
            "_view_module_version": "1.2.0",
            "_view_name": "StyleView",
            "bar_color": null,
            "description_width": ""
          }
        },
        "f12fe46316c147d1a533e76e6c8be317": {
          "model_module": "@jupyter-widgets/base",
          "model_name": "LayoutModel",
          "model_module_version": "1.2.0",
          "state": {
            "_model_module": "@jupyter-widgets/base",
            "_model_module_version": "1.2.0",
            "_model_name": "LayoutModel",
            "_view_count": null,
            "_view_module": "@jupyter-widgets/base",
            "_view_module_version": "1.2.0",
            "_view_name": "LayoutView",
            "align_content": null,
            "align_items": null,
            "align_self": null,
            "border": null,
            "bottom": null,
            "display": null,
            "flex": null,
            "flex_flow": null,
            "grid_area": null,
            "grid_auto_columns": null,
            "grid_auto_flow": null,
            "grid_auto_rows": null,
            "grid_column": null,
            "grid_gap": null,
            "grid_row": null,
            "grid_template_areas": null,
            "grid_template_columns": null,
            "grid_template_rows": null,
            "height": null,
            "justify_content": null,
            "justify_items": null,
            "left": null,
            "margin": null,
            "max_height": null,
            "max_width": null,
            "min_height": null,
            "min_width": null,
            "object_fit": null,
            "object_position": null,
            "order": null,
            "overflow": null,
            "overflow_x": null,
            "overflow_y": null,
            "padding": null,
            "right": null,
            "top": null,
            "visibility": null,
            "width": null
          }
        },
        "cbe061aae4ee4f9db288e7501a31a541": {
          "model_module": "@jupyter-widgets/controls",
          "model_name": "DescriptionStyleModel",
          "model_module_version": "1.5.0",
          "state": {
            "_model_module": "@jupyter-widgets/controls",
            "_model_module_version": "1.5.0",
            "_model_name": "DescriptionStyleModel",
            "_view_count": null,
            "_view_module": "@jupyter-widgets/base",
            "_view_module_version": "1.2.0",
            "_view_name": "StyleView",
            "description_width": ""
          }
        },
        "d79ee8b2721b4ee3ada33f409b1539ef": {
          "model_module": "@jupyter-widgets/controls",
          "model_name": "HBoxModel",
          "model_module_version": "1.5.0",
          "state": {
            "_dom_classes": [],
            "_model_module": "@jupyter-widgets/controls",
            "_model_module_version": "1.5.0",
            "_model_name": "HBoxModel",
            "_view_count": null,
            "_view_module": "@jupyter-widgets/controls",
            "_view_module_version": "1.5.0",
            "_view_name": "HBoxView",
            "box_style": "",
            "children": [
              "IPY_MODEL_97af6fa92f224de3af6ab5dfe23ffee0",
              "IPY_MODEL_91e35775bd1144d2bedcc9703d670308",
              "IPY_MODEL_d2381a6ae607441f8dbb5081259504d3"
            ],
            "layout": "IPY_MODEL_c4497412bdeb465492aaa30da53eda30"
          }
        },
        "97af6fa92f224de3af6ab5dfe23ffee0": {
          "model_module": "@jupyter-widgets/controls",
          "model_name": "HTMLModel",
          "model_module_version": "1.5.0",
          "state": {
            "_dom_classes": [],
            "_model_module": "@jupyter-widgets/controls",
            "_model_module_version": "1.5.0",
            "_model_name": "HTMLModel",
            "_view_count": null,
            "_view_module": "@jupyter-widgets/controls",
            "_view_module_version": "1.5.0",
            "_view_name": "HTMLView",
            "description": "",
            "description_tooltip": null,
            "layout": "IPY_MODEL_ad8810f8ec9743ac82b69eaba63ac583",
            "placeholder": "​",
            "style": "IPY_MODEL_5a7d3ae955b14749b08fdac6cbf79828",
            "value": "Downloading: 100%"
          }
        },
        "91e35775bd1144d2bedcc9703d670308": {
          "model_module": "@jupyter-widgets/controls",
          "model_name": "FloatProgressModel",
          "model_module_version": "1.5.0",
          "state": {
            "_dom_classes": [],
            "_model_module": "@jupyter-widgets/controls",
            "_model_module_version": "1.5.0",
            "_model_name": "FloatProgressModel",
            "_view_count": null,
            "_view_module": "@jupyter-widgets/controls",
            "_view_module_version": "1.5.0",
            "_view_name": "ProgressView",
            "bar_style": "success",
            "description": "",
            "description_tooltip": null,
            "layout": "IPY_MODEL_23e2caeeb3024fdbb5a1a50864ab7a69",
            "max": 29,
            "min": 0,
            "orientation": "horizontal",
            "style": "IPY_MODEL_18b2a0acab2b47c3a10d12270aacebb3",
            "value": 29
          }
        },
        "d2381a6ae607441f8dbb5081259504d3": {
          "model_module": "@jupyter-widgets/controls",
          "model_name": "HTMLModel",
          "model_module_version": "1.5.0",
          "state": {
            "_dom_classes": [],
            "_model_module": "@jupyter-widgets/controls",
            "_model_module_version": "1.5.0",
            "_model_name": "HTMLModel",
            "_view_count": null,
            "_view_module": "@jupyter-widgets/controls",
            "_view_module_version": "1.5.0",
            "_view_name": "HTMLView",
            "description": "",
            "description_tooltip": null,
            "layout": "IPY_MODEL_3aff4c1a9de94bae8054a8e996b58773",
            "placeholder": "​",
            "style": "IPY_MODEL_75ab18cb02d849699df9ae6a9aade5b1",
            "value": " 29.0/29.0 [00:00&lt;00:00, 394B/s]"
          }
        },
        "c4497412bdeb465492aaa30da53eda30": {
          "model_module": "@jupyter-widgets/base",
          "model_name": "LayoutModel",
          "model_module_version": "1.2.0",
          "state": {
            "_model_module": "@jupyter-widgets/base",
            "_model_module_version": "1.2.0",
            "_model_name": "LayoutModel",
            "_view_count": null,
            "_view_module": "@jupyter-widgets/base",
            "_view_module_version": "1.2.0",
            "_view_name": "LayoutView",
            "align_content": null,
            "align_items": null,
            "align_self": null,
            "border": null,
            "bottom": null,
            "display": null,
            "flex": null,
            "flex_flow": null,
            "grid_area": null,
            "grid_auto_columns": null,
            "grid_auto_flow": null,
            "grid_auto_rows": null,
            "grid_column": null,
            "grid_gap": null,
            "grid_row": null,
            "grid_template_areas": null,
            "grid_template_columns": null,
            "grid_template_rows": null,
            "height": null,
            "justify_content": null,
            "justify_items": null,
            "left": null,
            "margin": null,
            "max_height": null,
            "max_width": null,
            "min_height": null,
            "min_width": null,
            "object_fit": null,
            "object_position": null,
            "order": null,
            "overflow": null,
            "overflow_x": null,
            "overflow_y": null,
            "padding": null,
            "right": null,
            "top": null,
            "visibility": null,
            "width": null
          }
        },
        "ad8810f8ec9743ac82b69eaba63ac583": {
          "model_module": "@jupyter-widgets/base",
          "model_name": "LayoutModel",
          "model_module_version": "1.2.0",
          "state": {
            "_model_module": "@jupyter-widgets/base",
            "_model_module_version": "1.2.0",
            "_model_name": "LayoutModel",
            "_view_count": null,
            "_view_module": "@jupyter-widgets/base",
            "_view_module_version": "1.2.0",
            "_view_name": "LayoutView",
            "align_content": null,
            "align_items": null,
            "align_self": null,
            "border": null,
            "bottom": null,
            "display": null,
            "flex": null,
            "flex_flow": null,
            "grid_area": null,
            "grid_auto_columns": null,
            "grid_auto_flow": null,
            "grid_auto_rows": null,
            "grid_column": null,
            "grid_gap": null,
            "grid_row": null,
            "grid_template_areas": null,
            "grid_template_columns": null,
            "grid_template_rows": null,
            "height": null,
            "justify_content": null,
            "justify_items": null,
            "left": null,
            "margin": null,
            "max_height": null,
            "max_width": null,
            "min_height": null,
            "min_width": null,
            "object_fit": null,
            "object_position": null,
            "order": null,
            "overflow": null,
            "overflow_x": null,
            "overflow_y": null,
            "padding": null,
            "right": null,
            "top": null,
            "visibility": null,
            "width": null
          }
        },
        "5a7d3ae955b14749b08fdac6cbf79828": {
          "model_module": "@jupyter-widgets/controls",
          "model_name": "DescriptionStyleModel",
          "model_module_version": "1.5.0",
          "state": {
            "_model_module": "@jupyter-widgets/controls",
            "_model_module_version": "1.5.0",
            "_model_name": "DescriptionStyleModel",
            "_view_count": null,
            "_view_module": "@jupyter-widgets/base",
            "_view_module_version": "1.2.0",
            "_view_name": "StyleView",
            "description_width": ""
          }
        },
        "23e2caeeb3024fdbb5a1a50864ab7a69": {
          "model_module": "@jupyter-widgets/base",
          "model_name": "LayoutModel",
          "model_module_version": "1.2.0",
          "state": {
            "_model_module": "@jupyter-widgets/base",
            "_model_module_version": "1.2.0",
            "_model_name": "LayoutModel",
            "_view_count": null,
            "_view_module": "@jupyter-widgets/base",
            "_view_module_version": "1.2.0",
            "_view_name": "LayoutView",
            "align_content": null,
            "align_items": null,
            "align_self": null,
            "border": null,
            "bottom": null,
            "display": null,
            "flex": null,
            "flex_flow": null,
            "grid_area": null,
            "grid_auto_columns": null,
            "grid_auto_flow": null,
            "grid_auto_rows": null,
            "grid_column": null,
            "grid_gap": null,
            "grid_row": null,
            "grid_template_areas": null,
            "grid_template_columns": null,
            "grid_template_rows": null,
            "height": null,
            "justify_content": null,
            "justify_items": null,
            "left": null,
            "margin": null,
            "max_height": null,
            "max_width": null,
            "min_height": null,
            "min_width": null,
            "object_fit": null,
            "object_position": null,
            "order": null,
            "overflow": null,
            "overflow_x": null,
            "overflow_y": null,
            "padding": null,
            "right": null,
            "top": null,
            "visibility": null,
            "width": null
          }
        },
        "18b2a0acab2b47c3a10d12270aacebb3": {
          "model_module": "@jupyter-widgets/controls",
          "model_name": "ProgressStyleModel",
          "model_module_version": "1.5.0",
          "state": {
            "_model_module": "@jupyter-widgets/controls",
            "_model_module_version": "1.5.0",
            "_model_name": "ProgressStyleModel",
            "_view_count": null,
            "_view_module": "@jupyter-widgets/base",
            "_view_module_version": "1.2.0",
            "_view_name": "StyleView",
            "bar_color": null,
            "description_width": ""
          }
        },
        "3aff4c1a9de94bae8054a8e996b58773": {
          "model_module": "@jupyter-widgets/base",
          "model_name": "LayoutModel",
          "model_module_version": "1.2.0",
          "state": {
            "_model_module": "@jupyter-widgets/base",
            "_model_module_version": "1.2.0",
            "_model_name": "LayoutModel",
            "_view_count": null,
            "_view_module": "@jupyter-widgets/base",
            "_view_module_version": "1.2.0",
            "_view_name": "LayoutView",
            "align_content": null,
            "align_items": null,
            "align_self": null,
            "border": null,
            "bottom": null,
            "display": null,
            "flex": null,
            "flex_flow": null,
            "grid_area": null,
            "grid_auto_columns": null,
            "grid_auto_flow": null,
            "grid_auto_rows": null,
            "grid_column": null,
            "grid_gap": null,
            "grid_row": null,
            "grid_template_areas": null,
            "grid_template_columns": null,
            "grid_template_rows": null,
            "height": null,
            "justify_content": null,
            "justify_items": null,
            "left": null,
            "margin": null,
            "max_height": null,
            "max_width": null,
            "min_height": null,
            "min_width": null,
            "object_fit": null,
            "object_position": null,
            "order": null,
            "overflow": null,
            "overflow_x": null,
            "overflow_y": null,
            "padding": null,
            "right": null,
            "top": null,
            "visibility": null,
            "width": null
          }
        },
        "75ab18cb02d849699df9ae6a9aade5b1": {
          "model_module": "@jupyter-widgets/controls",
          "model_name": "DescriptionStyleModel",
          "model_module_version": "1.5.0",
          "state": {
            "_model_module": "@jupyter-widgets/controls",
            "_model_module_version": "1.5.0",
            "_model_name": "DescriptionStyleModel",
            "_view_count": null,
            "_view_module": "@jupyter-widgets/base",
            "_view_module_version": "1.2.0",
            "_view_name": "StyleView",
            "description_width": ""
          }
        },
        "955a688f544048e6bce602157914cef9": {
          "model_module": "@jupyter-widgets/controls",
          "model_name": "HBoxModel",
          "model_module_version": "1.5.0",
          "state": {
            "_dom_classes": [],
            "_model_module": "@jupyter-widgets/controls",
            "_model_module_version": "1.5.0",
            "_model_name": "HBoxModel",
            "_view_count": null,
            "_view_module": "@jupyter-widgets/controls",
            "_view_module_version": "1.5.0",
            "_view_name": "HBoxView",
            "box_style": "",
            "children": [
              "IPY_MODEL_96c3b6f5bb8d49e4af2722d7d476e1fc",
              "IPY_MODEL_b46425a8eedc4717a8e88f17c100de14",
              "IPY_MODEL_70493c87875340f6ba7fa610438ff704"
            ],
            "layout": "IPY_MODEL_568154d911204ede9e93edf8a0ab4974"
          }
        },
        "96c3b6f5bb8d49e4af2722d7d476e1fc": {
          "model_module": "@jupyter-widgets/controls",
          "model_name": "HTMLModel",
          "model_module_version": "1.5.0",
          "state": {
            "_dom_classes": [],
            "_model_module": "@jupyter-widgets/controls",
            "_model_module_version": "1.5.0",
            "_model_name": "HTMLModel",
            "_view_count": null,
            "_view_module": "@jupyter-widgets/controls",
            "_view_module_version": "1.5.0",
            "_view_name": "HTMLView",
            "description": "",
            "description_tooltip": null,
            "layout": "IPY_MODEL_699057480d6e40929545d564d270be8c",
            "placeholder": "​",
            "style": "IPY_MODEL_00ff853d4b4f422b9e702a86695ae543",
            "value": "Downloading: 100%"
          }
        },
        "b46425a8eedc4717a8e88f17c100de14": {
          "model_module": "@jupyter-widgets/controls",
          "model_name": "FloatProgressModel",
          "model_module_version": "1.5.0",
          "state": {
            "_dom_classes": [],
            "_model_module": "@jupyter-widgets/controls",
            "_model_module_version": "1.5.0",
            "_model_name": "FloatProgressModel",
            "_view_count": null,
            "_view_module": "@jupyter-widgets/controls",
            "_view_module_version": "1.5.0",
            "_view_name": "ProgressView",
            "bar_style": "success",
            "description": "",
            "description_tooltip": null,
            "layout": "IPY_MODEL_368563f84147484f92e76cc15eff5b7e",
            "max": 570,
            "min": 0,
            "orientation": "horizontal",
            "style": "IPY_MODEL_ddffdb82586746eca1787e26ba9af3d4",
            "value": 570
          }
        },
        "70493c87875340f6ba7fa610438ff704": {
          "model_module": "@jupyter-widgets/controls",
          "model_name": "HTMLModel",
          "model_module_version": "1.5.0",
          "state": {
            "_dom_classes": [],
            "_model_module": "@jupyter-widgets/controls",
            "_model_module_version": "1.5.0",
            "_model_name": "HTMLModel",
            "_view_count": null,
            "_view_module": "@jupyter-widgets/controls",
            "_view_module_version": "1.5.0",
            "_view_name": "HTMLView",
            "description": "",
            "description_tooltip": null,
            "layout": "IPY_MODEL_8247f8f2fefb44f1bc7473827a05cb7a",
            "placeholder": "​",
            "style": "IPY_MODEL_d9c7a8f234844158a58a2db9d4b9b808",
            "value": " 570/570 [00:00&lt;00:00, 4.88kB/s]"
          }
        },
        "568154d911204ede9e93edf8a0ab4974": {
          "model_module": "@jupyter-widgets/base",
          "model_name": "LayoutModel",
          "model_module_version": "1.2.0",
          "state": {
            "_model_module": "@jupyter-widgets/base",
            "_model_module_version": "1.2.0",
            "_model_name": "LayoutModel",
            "_view_count": null,
            "_view_module": "@jupyter-widgets/base",
            "_view_module_version": "1.2.0",
            "_view_name": "LayoutView",
            "align_content": null,
            "align_items": null,
            "align_self": null,
            "border": null,
            "bottom": null,
            "display": null,
            "flex": null,
            "flex_flow": null,
            "grid_area": null,
            "grid_auto_columns": null,
            "grid_auto_flow": null,
            "grid_auto_rows": null,
            "grid_column": null,
            "grid_gap": null,
            "grid_row": null,
            "grid_template_areas": null,
            "grid_template_columns": null,
            "grid_template_rows": null,
            "height": null,
            "justify_content": null,
            "justify_items": null,
            "left": null,
            "margin": null,
            "max_height": null,
            "max_width": null,
            "min_height": null,
            "min_width": null,
            "object_fit": null,
            "object_position": null,
            "order": null,
            "overflow": null,
            "overflow_x": null,
            "overflow_y": null,
            "padding": null,
            "right": null,
            "top": null,
            "visibility": null,
            "width": null
          }
        },
        "699057480d6e40929545d564d270be8c": {
          "model_module": "@jupyter-widgets/base",
          "model_name": "LayoutModel",
          "model_module_version": "1.2.0",
          "state": {
            "_model_module": "@jupyter-widgets/base",
            "_model_module_version": "1.2.0",
            "_model_name": "LayoutModel",
            "_view_count": null,
            "_view_module": "@jupyter-widgets/base",
            "_view_module_version": "1.2.0",
            "_view_name": "LayoutView",
            "align_content": null,
            "align_items": null,
            "align_self": null,
            "border": null,
            "bottom": null,
            "display": null,
            "flex": null,
            "flex_flow": null,
            "grid_area": null,
            "grid_auto_columns": null,
            "grid_auto_flow": null,
            "grid_auto_rows": null,
            "grid_column": null,
            "grid_gap": null,
            "grid_row": null,
            "grid_template_areas": null,
            "grid_template_columns": null,
            "grid_template_rows": null,
            "height": null,
            "justify_content": null,
            "justify_items": null,
            "left": null,
            "margin": null,
            "max_height": null,
            "max_width": null,
            "min_height": null,
            "min_width": null,
            "object_fit": null,
            "object_position": null,
            "order": null,
            "overflow": null,
            "overflow_x": null,
            "overflow_y": null,
            "padding": null,
            "right": null,
            "top": null,
            "visibility": null,
            "width": null
          }
        },
        "00ff853d4b4f422b9e702a86695ae543": {
          "model_module": "@jupyter-widgets/controls",
          "model_name": "DescriptionStyleModel",
          "model_module_version": "1.5.0",
          "state": {
            "_model_module": "@jupyter-widgets/controls",
            "_model_module_version": "1.5.0",
            "_model_name": "DescriptionStyleModel",
            "_view_count": null,
            "_view_module": "@jupyter-widgets/base",
            "_view_module_version": "1.2.0",
            "_view_name": "StyleView",
            "description_width": ""
          }
        },
        "368563f84147484f92e76cc15eff5b7e": {
          "model_module": "@jupyter-widgets/base",
          "model_name": "LayoutModel",
          "model_module_version": "1.2.0",
          "state": {
            "_model_module": "@jupyter-widgets/base",
            "_model_module_version": "1.2.0",
            "_model_name": "LayoutModel",
            "_view_count": null,
            "_view_module": "@jupyter-widgets/base",
            "_view_module_version": "1.2.0",
            "_view_name": "LayoutView",
            "align_content": null,
            "align_items": null,
            "align_self": null,
            "border": null,
            "bottom": null,
            "display": null,
            "flex": null,
            "flex_flow": null,
            "grid_area": null,
            "grid_auto_columns": null,
            "grid_auto_flow": null,
            "grid_auto_rows": null,
            "grid_column": null,
            "grid_gap": null,
            "grid_row": null,
            "grid_template_areas": null,
            "grid_template_columns": null,
            "grid_template_rows": null,
            "height": null,
            "justify_content": null,
            "justify_items": null,
            "left": null,
            "margin": null,
            "max_height": null,
            "max_width": null,
            "min_height": null,
            "min_width": null,
            "object_fit": null,
            "object_position": null,
            "order": null,
            "overflow": null,
            "overflow_x": null,
            "overflow_y": null,
            "padding": null,
            "right": null,
            "top": null,
            "visibility": null,
            "width": null
          }
        },
        "ddffdb82586746eca1787e26ba9af3d4": {
          "model_module": "@jupyter-widgets/controls",
          "model_name": "ProgressStyleModel",
          "model_module_version": "1.5.0",
          "state": {
            "_model_module": "@jupyter-widgets/controls",
            "_model_module_version": "1.5.0",
            "_model_name": "ProgressStyleModel",
            "_view_count": null,
            "_view_module": "@jupyter-widgets/base",
            "_view_module_version": "1.2.0",
            "_view_name": "StyleView",
            "bar_color": null,
            "description_width": ""
          }
        },
        "8247f8f2fefb44f1bc7473827a05cb7a": {
          "model_module": "@jupyter-widgets/base",
          "model_name": "LayoutModel",
          "model_module_version": "1.2.0",
          "state": {
            "_model_module": "@jupyter-widgets/base",
            "_model_module_version": "1.2.0",
            "_model_name": "LayoutModel",
            "_view_count": null,
            "_view_module": "@jupyter-widgets/base",
            "_view_module_version": "1.2.0",
            "_view_name": "LayoutView",
            "align_content": null,
            "align_items": null,
            "align_self": null,
            "border": null,
            "bottom": null,
            "display": null,
            "flex": null,
            "flex_flow": null,
            "grid_area": null,
            "grid_auto_columns": null,
            "grid_auto_flow": null,
            "grid_auto_rows": null,
            "grid_column": null,
            "grid_gap": null,
            "grid_row": null,
            "grid_template_areas": null,
            "grid_template_columns": null,
            "grid_template_rows": null,
            "height": null,
            "justify_content": null,
            "justify_items": null,
            "left": null,
            "margin": null,
            "max_height": null,
            "max_width": null,
            "min_height": null,
            "min_width": null,
            "object_fit": null,
            "object_position": null,
            "order": null,
            "overflow": null,
            "overflow_x": null,
            "overflow_y": null,
            "padding": null,
            "right": null,
            "top": null,
            "visibility": null,
            "width": null
          }
        },
        "d9c7a8f234844158a58a2db9d4b9b808": {
          "model_module": "@jupyter-widgets/controls",
          "model_name": "DescriptionStyleModel",
          "model_module_version": "1.5.0",
          "state": {
            "_model_module": "@jupyter-widgets/controls",
            "_model_module_version": "1.5.0",
            "_model_name": "DescriptionStyleModel",
            "_view_count": null,
            "_view_module": "@jupyter-widgets/base",
            "_view_module_version": "1.2.0",
            "_view_name": "StyleView",
            "description_width": ""
          }
        },
        "70efbb49d258468aa869e34a60590568": {
          "model_module": "@jupyter-widgets/controls",
          "model_name": "HBoxModel",
          "model_module_version": "1.5.0",
          "state": {
            "_dom_classes": [],
            "_model_module": "@jupyter-widgets/controls",
            "_model_module_version": "1.5.0",
            "_model_name": "HBoxModel",
            "_view_count": null,
            "_view_module": "@jupyter-widgets/controls",
            "_view_module_version": "1.5.0",
            "_view_name": "HBoxView",
            "box_style": "",
            "children": [
              "IPY_MODEL_cfd3f7a66404493b80ba086959457c0f",
              "IPY_MODEL_93a66d14febb4948b14a803b183eac26",
              "IPY_MODEL_e5a02105bb5c4256b010e8f1271a229e"
            ],
            "layout": "IPY_MODEL_dc899b419ca649ffae9f9b372518a4ea"
          }
        },
        "cfd3f7a66404493b80ba086959457c0f": {
          "model_module": "@jupyter-widgets/controls",
          "model_name": "HTMLModel",
          "model_module_version": "1.5.0",
          "state": {
            "_dom_classes": [],
            "_model_module": "@jupyter-widgets/controls",
            "_model_module_version": "1.5.0",
            "_model_name": "HTMLModel",
            "_view_count": null,
            "_view_module": "@jupyter-widgets/controls",
            "_view_module_version": "1.5.0",
            "_view_name": "HTMLView",
            "description": "",
            "description_tooltip": null,
            "layout": "IPY_MODEL_3bd2d39cd9494e2ea9086c97a1ecc752",
            "placeholder": "​",
            "style": "IPY_MODEL_6c9edb121bc849c1bec06a3fbe39368f",
            "value": "Downloading: 100%"
          }
        },
        "93a66d14febb4948b14a803b183eac26": {
          "model_module": "@jupyter-widgets/controls",
          "model_name": "FloatProgressModel",
          "model_module_version": "1.5.0",
          "state": {
            "_dom_classes": [],
            "_model_module": "@jupyter-widgets/controls",
            "_model_module_version": "1.5.0",
            "_model_name": "FloatProgressModel",
            "_view_count": null,
            "_view_module": "@jupyter-widgets/controls",
            "_view_module_version": "1.5.0",
            "_view_name": "ProgressView",
            "bar_style": "success",
            "description": "",
            "description_tooltip": null,
            "layout": "IPY_MODEL_c52ef951e1034fd38ce1602d523c67b3",
            "max": 435797,
            "min": 0,
            "orientation": "horizontal",
            "style": "IPY_MODEL_cce9519c2f9a4698b5e5c4e8fdc2870b",
            "value": 435797
          }
        },
        "e5a02105bb5c4256b010e8f1271a229e": {
          "model_module": "@jupyter-widgets/controls",
          "model_name": "HTMLModel",
          "model_module_version": "1.5.0",
          "state": {
            "_dom_classes": [],
            "_model_module": "@jupyter-widgets/controls",
            "_model_module_version": "1.5.0",
            "_model_name": "HTMLModel",
            "_view_count": null,
            "_view_module": "@jupyter-widgets/controls",
            "_view_module_version": "1.5.0",
            "_view_name": "HTMLView",
            "description": "",
            "description_tooltip": null,
            "layout": "IPY_MODEL_157cb3b821414373b882e2fec68bf1e5",
            "placeholder": "​",
            "style": "IPY_MODEL_fb588385deb54ea6a7659a82063861fd",
            "value": " 436k/436k [00:00&lt;00:00, 1.22MB/s]"
          }
        },
        "dc899b419ca649ffae9f9b372518a4ea": {
          "model_module": "@jupyter-widgets/base",
          "model_name": "LayoutModel",
          "model_module_version": "1.2.0",
          "state": {
            "_model_module": "@jupyter-widgets/base",
            "_model_module_version": "1.2.0",
            "_model_name": "LayoutModel",
            "_view_count": null,
            "_view_module": "@jupyter-widgets/base",
            "_view_module_version": "1.2.0",
            "_view_name": "LayoutView",
            "align_content": null,
            "align_items": null,
            "align_self": null,
            "border": null,
            "bottom": null,
            "display": null,
            "flex": null,
            "flex_flow": null,
            "grid_area": null,
            "grid_auto_columns": null,
            "grid_auto_flow": null,
            "grid_auto_rows": null,
            "grid_column": null,
            "grid_gap": null,
            "grid_row": null,
            "grid_template_areas": null,
            "grid_template_columns": null,
            "grid_template_rows": null,
            "height": null,
            "justify_content": null,
            "justify_items": null,
            "left": null,
            "margin": null,
            "max_height": null,
            "max_width": null,
            "min_height": null,
            "min_width": null,
            "object_fit": null,
            "object_position": null,
            "order": null,
            "overflow": null,
            "overflow_x": null,
            "overflow_y": null,
            "padding": null,
            "right": null,
            "top": null,
            "visibility": null,
            "width": null
          }
        },
        "3bd2d39cd9494e2ea9086c97a1ecc752": {
          "model_module": "@jupyter-widgets/base",
          "model_name": "LayoutModel",
          "model_module_version": "1.2.0",
          "state": {
            "_model_module": "@jupyter-widgets/base",
            "_model_module_version": "1.2.0",
            "_model_name": "LayoutModel",
            "_view_count": null,
            "_view_module": "@jupyter-widgets/base",
            "_view_module_version": "1.2.0",
            "_view_name": "LayoutView",
            "align_content": null,
            "align_items": null,
            "align_self": null,
            "border": null,
            "bottom": null,
            "display": null,
            "flex": null,
            "flex_flow": null,
            "grid_area": null,
            "grid_auto_columns": null,
            "grid_auto_flow": null,
            "grid_auto_rows": null,
            "grid_column": null,
            "grid_gap": null,
            "grid_row": null,
            "grid_template_areas": null,
            "grid_template_columns": null,
            "grid_template_rows": null,
            "height": null,
            "justify_content": null,
            "justify_items": null,
            "left": null,
            "margin": null,
            "max_height": null,
            "max_width": null,
            "min_height": null,
            "min_width": null,
            "object_fit": null,
            "object_position": null,
            "order": null,
            "overflow": null,
            "overflow_x": null,
            "overflow_y": null,
            "padding": null,
            "right": null,
            "top": null,
            "visibility": null,
            "width": null
          }
        },
        "6c9edb121bc849c1bec06a3fbe39368f": {
          "model_module": "@jupyter-widgets/controls",
          "model_name": "DescriptionStyleModel",
          "model_module_version": "1.5.0",
          "state": {
            "_model_module": "@jupyter-widgets/controls",
            "_model_module_version": "1.5.0",
            "_model_name": "DescriptionStyleModel",
            "_view_count": null,
            "_view_module": "@jupyter-widgets/base",
            "_view_module_version": "1.2.0",
            "_view_name": "StyleView",
            "description_width": ""
          }
        },
        "c52ef951e1034fd38ce1602d523c67b3": {
          "model_module": "@jupyter-widgets/base",
          "model_name": "LayoutModel",
          "model_module_version": "1.2.0",
          "state": {
            "_model_module": "@jupyter-widgets/base",
            "_model_module_version": "1.2.0",
            "_model_name": "LayoutModel",
            "_view_count": null,
            "_view_module": "@jupyter-widgets/base",
            "_view_module_version": "1.2.0",
            "_view_name": "LayoutView",
            "align_content": null,
            "align_items": null,
            "align_self": null,
            "border": null,
            "bottom": null,
            "display": null,
            "flex": null,
            "flex_flow": null,
            "grid_area": null,
            "grid_auto_columns": null,
            "grid_auto_flow": null,
            "grid_auto_rows": null,
            "grid_column": null,
            "grid_gap": null,
            "grid_row": null,
            "grid_template_areas": null,
            "grid_template_columns": null,
            "grid_template_rows": null,
            "height": null,
            "justify_content": null,
            "justify_items": null,
            "left": null,
            "margin": null,
            "max_height": null,
            "max_width": null,
            "min_height": null,
            "min_width": null,
            "object_fit": null,
            "object_position": null,
            "order": null,
            "overflow": null,
            "overflow_x": null,
            "overflow_y": null,
            "padding": null,
            "right": null,
            "top": null,
            "visibility": null,
            "width": null
          }
        },
        "cce9519c2f9a4698b5e5c4e8fdc2870b": {
          "model_module": "@jupyter-widgets/controls",
          "model_name": "ProgressStyleModel",
          "model_module_version": "1.5.0",
          "state": {
            "_model_module": "@jupyter-widgets/controls",
            "_model_module_version": "1.5.0",
            "_model_name": "ProgressStyleModel",
            "_view_count": null,
            "_view_module": "@jupyter-widgets/base",
            "_view_module_version": "1.2.0",
            "_view_name": "StyleView",
            "bar_color": null,
            "description_width": ""
          }
        },
        "157cb3b821414373b882e2fec68bf1e5": {
          "model_module": "@jupyter-widgets/base",
          "model_name": "LayoutModel",
          "model_module_version": "1.2.0",
          "state": {
            "_model_module": "@jupyter-widgets/base",
            "_model_module_version": "1.2.0",
            "_model_name": "LayoutModel",
            "_view_count": null,
            "_view_module": "@jupyter-widgets/base",
            "_view_module_version": "1.2.0",
            "_view_name": "LayoutView",
            "align_content": null,
            "align_items": null,
            "align_self": null,
            "border": null,
            "bottom": null,
            "display": null,
            "flex": null,
            "flex_flow": null,
            "grid_area": null,
            "grid_auto_columns": null,
            "grid_auto_flow": null,
            "grid_auto_rows": null,
            "grid_column": null,
            "grid_gap": null,
            "grid_row": null,
            "grid_template_areas": null,
            "grid_template_columns": null,
            "grid_template_rows": null,
            "height": null,
            "justify_content": null,
            "justify_items": null,
            "left": null,
            "margin": null,
            "max_height": null,
            "max_width": null,
            "min_height": null,
            "min_width": null,
            "object_fit": null,
            "object_position": null,
            "order": null,
            "overflow": null,
            "overflow_x": null,
            "overflow_y": null,
            "padding": null,
            "right": null,
            "top": null,
            "visibility": null,
            "width": null
          }
        },
        "fb588385deb54ea6a7659a82063861fd": {
          "model_module": "@jupyter-widgets/controls",
          "model_name": "DescriptionStyleModel",
          "model_module_version": "1.5.0",
          "state": {
            "_model_module": "@jupyter-widgets/controls",
            "_model_module_version": "1.5.0",
            "_model_name": "DescriptionStyleModel",
            "_view_count": null,
            "_view_module": "@jupyter-widgets/base",
            "_view_module_version": "1.2.0",
            "_view_name": "StyleView",
            "description_width": ""
          }
        },
        "97fd73f1b52546e5aa926c0f4f328591": {
          "model_module": "@jupyter-widgets/controls",
          "model_name": "HBoxModel",
          "model_module_version": "1.5.0",
          "state": {
            "_dom_classes": [],
            "_model_module": "@jupyter-widgets/controls",
            "_model_module_version": "1.5.0",
            "_model_name": "HBoxModel",
            "_view_count": null,
            "_view_module": "@jupyter-widgets/controls",
            "_view_module_version": "1.5.0",
            "_view_name": "HBoxView",
            "box_style": "",
            "children": [
              "IPY_MODEL_c47ce0830f7340a28db2528977e2dd99",
              "IPY_MODEL_1ded8a92d3b0444ea80ee881cde8a7e8",
              "IPY_MODEL_2609202b54b844b2a8ae3e9b04b013b8"
            ],
            "layout": "IPY_MODEL_bb210e6324a24d85aadfcdfca0b55db2"
          }
        },
        "c47ce0830f7340a28db2528977e2dd99": {
          "model_module": "@jupyter-widgets/controls",
          "model_name": "HTMLModel",
          "model_module_version": "1.5.0",
          "state": {
            "_dom_classes": [],
            "_model_module": "@jupyter-widgets/controls",
            "_model_module_version": "1.5.0",
            "_model_name": "HTMLModel",
            "_view_count": null,
            "_view_module": "@jupyter-widgets/controls",
            "_view_module_version": "1.5.0",
            "_view_name": "HTMLView",
            "description": "",
            "description_tooltip": null,
            "layout": "IPY_MODEL_b27257aae3934105a39416a7ab473959",
            "placeholder": "​",
            "style": "IPY_MODEL_eb6db2eef6f84777b40767e7d36d857b",
            "value": "Downloading: 100%"
          }
        },
        "1ded8a92d3b0444ea80ee881cde8a7e8": {
          "model_module": "@jupyter-widgets/controls",
          "model_name": "FloatProgressModel",
          "model_module_version": "1.5.0",
          "state": {
            "_dom_classes": [],
            "_model_module": "@jupyter-widgets/controls",
            "_model_module_version": "1.5.0",
            "_model_name": "FloatProgressModel",
            "_view_count": null,
            "_view_module": "@jupyter-widgets/controls",
            "_view_module_version": "1.5.0",
            "_view_name": "ProgressView",
            "bar_style": "success",
            "description": "",
            "description_tooltip": null,
            "layout": "IPY_MODEL_020ec382bb7c410f9f04ef1ad40bfae8",
            "max": 435779157,
            "min": 0,
            "orientation": "horizontal",
            "style": "IPY_MODEL_f80d67b58de34eec8f86a0b5ed84e1e6",
            "value": 435779157
          }
        },
        "2609202b54b844b2a8ae3e9b04b013b8": {
          "model_module": "@jupyter-widgets/controls",
          "model_name": "HTMLModel",
          "model_module_version": "1.5.0",
          "state": {
            "_dom_classes": [],
            "_model_module": "@jupyter-widgets/controls",
            "_model_module_version": "1.5.0",
            "_model_name": "HTMLModel",
            "_view_count": null,
            "_view_module": "@jupyter-widgets/controls",
            "_view_module_version": "1.5.0",
            "_view_name": "HTMLView",
            "description": "",
            "description_tooltip": null,
            "layout": "IPY_MODEL_2fea0328f2ce46eab30dd2b4ca47368f",
            "placeholder": "​",
            "style": "IPY_MODEL_1e6abc8ed76f4ab99937f2c58fd78b83",
            "value": " 436M/436M [00:10&lt;00:00, 44.3MB/s]"
          }
        },
        "bb210e6324a24d85aadfcdfca0b55db2": {
          "model_module": "@jupyter-widgets/base",
          "model_name": "LayoutModel",
          "model_module_version": "1.2.0",
          "state": {
            "_model_module": "@jupyter-widgets/base",
            "_model_module_version": "1.2.0",
            "_model_name": "LayoutModel",
            "_view_count": null,
            "_view_module": "@jupyter-widgets/base",
            "_view_module_version": "1.2.0",
            "_view_name": "LayoutView",
            "align_content": null,
            "align_items": null,
            "align_self": null,
            "border": null,
            "bottom": null,
            "display": null,
            "flex": null,
            "flex_flow": null,
            "grid_area": null,
            "grid_auto_columns": null,
            "grid_auto_flow": null,
            "grid_auto_rows": null,
            "grid_column": null,
            "grid_gap": null,
            "grid_row": null,
            "grid_template_areas": null,
            "grid_template_columns": null,
            "grid_template_rows": null,
            "height": null,
            "justify_content": null,
            "justify_items": null,
            "left": null,
            "margin": null,
            "max_height": null,
            "max_width": null,
            "min_height": null,
            "min_width": null,
            "object_fit": null,
            "object_position": null,
            "order": null,
            "overflow": null,
            "overflow_x": null,
            "overflow_y": null,
            "padding": null,
            "right": null,
            "top": null,
            "visibility": null,
            "width": null
          }
        },
        "b27257aae3934105a39416a7ab473959": {
          "model_module": "@jupyter-widgets/base",
          "model_name": "LayoutModel",
          "model_module_version": "1.2.0",
          "state": {
            "_model_module": "@jupyter-widgets/base",
            "_model_module_version": "1.2.0",
            "_model_name": "LayoutModel",
            "_view_count": null,
            "_view_module": "@jupyter-widgets/base",
            "_view_module_version": "1.2.0",
            "_view_name": "LayoutView",
            "align_content": null,
            "align_items": null,
            "align_self": null,
            "border": null,
            "bottom": null,
            "display": null,
            "flex": null,
            "flex_flow": null,
            "grid_area": null,
            "grid_auto_columns": null,
            "grid_auto_flow": null,
            "grid_auto_rows": null,
            "grid_column": null,
            "grid_gap": null,
            "grid_row": null,
            "grid_template_areas": null,
            "grid_template_columns": null,
            "grid_template_rows": null,
            "height": null,
            "justify_content": null,
            "justify_items": null,
            "left": null,
            "margin": null,
            "max_height": null,
            "max_width": null,
            "min_height": null,
            "min_width": null,
            "object_fit": null,
            "object_position": null,
            "order": null,
            "overflow": null,
            "overflow_x": null,
            "overflow_y": null,
            "padding": null,
            "right": null,
            "top": null,
            "visibility": null,
            "width": null
          }
        },
        "eb6db2eef6f84777b40767e7d36d857b": {
          "model_module": "@jupyter-widgets/controls",
          "model_name": "DescriptionStyleModel",
          "model_module_version": "1.5.0",
          "state": {
            "_model_module": "@jupyter-widgets/controls",
            "_model_module_version": "1.5.0",
            "_model_name": "DescriptionStyleModel",
            "_view_count": null,
            "_view_module": "@jupyter-widgets/base",
            "_view_module_version": "1.2.0",
            "_view_name": "StyleView",
            "description_width": ""
          }
        },
        "020ec382bb7c410f9f04ef1ad40bfae8": {
          "model_module": "@jupyter-widgets/base",
          "model_name": "LayoutModel",
          "model_module_version": "1.2.0",
          "state": {
            "_model_module": "@jupyter-widgets/base",
            "_model_module_version": "1.2.0",
            "_model_name": "LayoutModel",
            "_view_count": null,
            "_view_module": "@jupyter-widgets/base",
            "_view_module_version": "1.2.0",
            "_view_name": "LayoutView",
            "align_content": null,
            "align_items": null,
            "align_self": null,
            "border": null,
            "bottom": null,
            "display": null,
            "flex": null,
            "flex_flow": null,
            "grid_area": null,
            "grid_auto_columns": null,
            "grid_auto_flow": null,
            "grid_auto_rows": null,
            "grid_column": null,
            "grid_gap": null,
            "grid_row": null,
            "grid_template_areas": null,
            "grid_template_columns": null,
            "grid_template_rows": null,
            "height": null,
            "justify_content": null,
            "justify_items": null,
            "left": null,
            "margin": null,
            "max_height": null,
            "max_width": null,
            "min_height": null,
            "min_width": null,
            "object_fit": null,
            "object_position": null,
            "order": null,
            "overflow": null,
            "overflow_x": null,
            "overflow_y": null,
            "padding": null,
            "right": null,
            "top": null,
            "visibility": null,
            "width": null
          }
        },
        "f80d67b58de34eec8f86a0b5ed84e1e6": {
          "model_module": "@jupyter-widgets/controls",
          "model_name": "ProgressStyleModel",
          "model_module_version": "1.5.0",
          "state": {
            "_model_module": "@jupyter-widgets/controls",
            "_model_module_version": "1.5.0",
            "_model_name": "ProgressStyleModel",
            "_view_count": null,
            "_view_module": "@jupyter-widgets/base",
            "_view_module_version": "1.2.0",
            "_view_name": "StyleView",
            "bar_color": null,
            "description_width": ""
          }
        },
        "2fea0328f2ce46eab30dd2b4ca47368f": {
          "model_module": "@jupyter-widgets/base",
          "model_name": "LayoutModel",
          "model_module_version": "1.2.0",
          "state": {
            "_model_module": "@jupyter-widgets/base",
            "_model_module_version": "1.2.0",
            "_model_name": "LayoutModel",
            "_view_count": null,
            "_view_module": "@jupyter-widgets/base",
            "_view_module_version": "1.2.0",
            "_view_name": "LayoutView",
            "align_content": null,
            "align_items": null,
            "align_self": null,
            "border": null,
            "bottom": null,
            "display": null,
            "flex": null,
            "flex_flow": null,
            "grid_area": null,
            "grid_auto_columns": null,
            "grid_auto_flow": null,
            "grid_auto_rows": null,
            "grid_column": null,
            "grid_gap": null,
            "grid_row": null,
            "grid_template_areas": null,
            "grid_template_columns": null,
            "grid_template_rows": null,
            "height": null,
            "justify_content": null,
            "justify_items": null,
            "left": null,
            "margin": null,
            "max_height": null,
            "max_width": null,
            "min_height": null,
            "min_width": null,
            "object_fit": null,
            "object_position": null,
            "order": null,
            "overflow": null,
            "overflow_x": null,
            "overflow_y": null,
            "padding": null,
            "right": null,
            "top": null,
            "visibility": null,
            "width": null
          }
        },
        "1e6abc8ed76f4ab99937f2c58fd78b83": {
          "model_module": "@jupyter-widgets/controls",
          "model_name": "DescriptionStyleModel",
          "model_module_version": "1.5.0",
          "state": {
            "_model_module": "@jupyter-widgets/controls",
            "_model_module_version": "1.5.0",
            "_model_name": "DescriptionStyleModel",
            "_view_count": null,
            "_view_module": "@jupyter-widgets/base",
            "_view_module_version": "1.2.0",
            "_view_name": "StyleView",
            "description_width": ""
          }
        }
      }
    }
  },
  "nbformat": 4,
  "nbformat_minor": 0
}